{
 "cells": [
  {
   "cell_type": "code",
   "execution_count": 2,
   "id": "85c6a410",
   "metadata": {},
   "outputs": [],
   "source": [
    "import os,sys\n",
    "from housing.util.util import *\n",
    "from housing.exception import HousingException\n",
    "from housing.logger import logging\n",
    "from housing.entity.artifact_entity import *\n",
    "from housing.entity.config_entity import *\n",
    "\n",
    "\n",
    "class ModelEvaluation:\n",
    "\n",
    "    def __init__(self, model_evaluation_config: ModelEvaluationConfig,\n",
    "                 data_ingestion_artifact: DataIngestionArtifact,\n",
    "                 data_validation_artifact: DataValidationArtifact,\n",
    "                 model_trainer_artifact: ModelTrainerArtifact):\n",
    "        try:\n",
    "            logging.info(f\"{'=' * 30}Model Evaluation log started.{'=' * 30} \")\n",
    "            self.model_evaluation_config = model_evaluation_config\n",
    "            self.model_trainer_artifact = model_trainer_artifact\n",
    "            self.data_ingestion_artifact = data_ingestion_artifact\n",
    "            self.data_validation_artifact = data_validation_artifact\n",
    "        except Exception as e:\n",
    "            raise HousingException(e, sys) from e\n",
    "\n",
    "    def get_best_model(self):\n",
    "        try:\n",
    "            model = None\n",
    "            model_evaluation_file_path = self.model_evaluation_config.model_evaluation_file_path\n",
    "\n",
    "            if not os.path.exists(model_evaluation_file_path):\n",
    "                write_yaml_file(file_path=model_evaluation_file_path,\n",
    "                                )\n",
    "                return model\n",
    "            model_eval_file_content = read_yaml_file(file_path=model_evaluation_file_path)\n",
    "            model_eval_file_content = dict() if model_eval_file_content is None else model_eval_file_content\n",
    "\n",
    "            if BEST_MODEL_KEY not in model_eval_file_content:\n",
    "                return model\n",
    "\n",
    "            model = load_object(file_path=model_eval_file_content[BEST_MODEL_KEY][MODEL_PATH_KEY])\n",
    "            return model\n",
    "        except Exception as e:\n",
    "            raise HousingException(e, sys) from e"
   ]
  },
  {
   "cell_type": "code",
   "execution_count": 4,
   "id": "742ed3dc",
   "metadata": {},
   "outputs": [
    {
     "name": "stdout",
     "output_type": "stream",
     "text": [
      "not available\n"
     ]
    }
   ],
   "source": [
    "model_evaluation_file_path = \"None/asasd\"\n",
    "if not os.path.exists(model_evaluation_file_path):\n",
    "    print('not available')\n"
   ]
  },
  {
   "cell_type": "code",
   "execution_count": 5,
   "id": "001f05a6",
   "metadata": {},
   "outputs": [
    {
     "data": {
      "text/plain": [
       "False"
      ]
     },
     "execution_count": 5,
     "metadata": {},
     "output_type": "execute_result"
    }
   ],
   "source": [
    "os.path.exists(model_evaluation_file_path)"
   ]
  },
  {
   "cell_type": "code",
   "execution_count": 8,
   "id": "038aa00c",
   "metadata": {},
   "outputs": [
    {
     "data": {
      "text/plain": [
       "'None/asasd'"
      ]
     },
     "execution_count": 8,
     "metadata": {},
     "output_type": "execute_result"
    }
   ],
   "source": [
    "model_evaluation_file_path = \"None/asasd/dfghj\"\n",
    "\n",
    "os.path.dirname(model_evaluation_file_path)"
   ]
  },
  {
   "cell_type": "code",
   "execution_count": 3,
   "id": "970f3ff8",
   "metadata": {},
   "outputs": [],
   "source": [
    "model_evaluation_file_path =r\"D:\\ML_Projects\\MLOps_California_House_Price_Prediction\\notebook\\model_evaluation.yaml\"\n",
    "model_eval_file_content = read_yaml_file(file_path=model_evaluation_file_path)"
   ]
  },
  {
   "cell_type": "code",
   "execution_count": 4,
   "id": "5897ae85",
   "metadata": {},
   "outputs": [
    {
     "data": {
      "text/plain": [
       "{'best_model': {'model_path': 'D:\\\\ML\\\\MLOps_house_price_project\\\\housing\\\\artifact\\\\model_trainer\\\\2025-03-09-10-17-04\\\\trained_model\\\\model.pkl'},\n",
       " 'history': {'2025-03-06-09-22-26': {'model_path': 'D:\\\\ML\\\\MLOps_house_price_project\\\\housing\\\\artifact\\\\model_trainer\\\\2025-03-06-09-18-23\\\\trained_model\\\\model.pkl'}}}"
      ]
     },
     "execution_count": 4,
     "metadata": {},
     "output_type": "execute_result"
    }
   ],
   "source": [
    "model_eval_file_content"
   ]
  },
  {
   "cell_type": "code",
   "execution_count": 6,
   "id": "f5dd32d4",
   "metadata": {},
   "outputs": [
    {
     "data": {
      "text/plain": [
       "'D:\\\\ML\\\\MLOps_house_price_project\\\\housing\\\\artifact\\\\model_trainer\\\\2025-03-09-10-17-04\\\\trained_model\\\\model.pkl'"
      ]
     },
     "execution_count": 6,
     "metadata": {},
     "output_type": "execute_result"
    }
   ],
   "source": [
    "model_eval_file_content[BEST_MODEL_KEY][MODEL_PATH_KEY]"
   ]
  },
  {
   "cell_type": "code",
   "execution_count": null,
   "id": "af0307eb",
   "metadata": {},
   "outputs": [],
   "source": []
  }
 ],
 "metadata": {
  "kernelspec": {
   "display_name": "Python 3",
   "language": "python",
   "name": "python3"
  },
  "language_info": {
   "codemirror_mode": {
    "name": "ipython",
    "version": 3
   },
   "file_extension": ".py",
   "mimetype": "text/x-python",
   "name": "python",
   "nbconvert_exporter": "python",
   "pygments_lexer": "ipython3",
   "version": "3.9.0"
  }
 },
 "nbformat": 4,
 "nbformat_minor": 5
}
