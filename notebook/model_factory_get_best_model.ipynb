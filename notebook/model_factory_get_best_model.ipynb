{
 "cells": [
  {
   "cell_type": "code",
   "execution_count": 1,
   "id": "6f5ddf9b",
   "metadata": {},
   "outputs": [],
   "source": [
    "from housing.entity.model_factory import ModelFactory"
   ]
  },
  {
   "cell_type": "code",
   "execution_count": null,
   "id": "3ec19cdb",
   "metadata": {},
   "outputs": [],
   "source": []
  },
  {
   "cell_type": "code",
   "execution_count": 4,
   "id": "a6dd9648",
   "metadata": {},
   "outputs": [],
   "source": [
    "model_config_file =r\"D:\\ML_Projects\\MLOps_California_House_Price_Prediction\\notebook\\config\\model.yaml\"\n",
    "\n",
    "model_factory = ModelFactory(model_config_path=model_config_file)"
   ]
  },
  {
   "cell_type": "code",
   "execution_count": 6,
   "id": "7a61e796",
   "metadata": {},
   "outputs": [
    {
     "data": {
      "text/plain": [
       "{'grid_search': {'class': 'GridSearchCV',\n",
       "  'module': 'sklearn.model_selection',\n",
       "  'params': {'cv': 5, 'verbose': 2}},\n",
       " 'model_selection': {'module_0': {'class': 'LinearRegression',\n",
       "   'module': 'sklearn.linear_model',\n",
       "   'params': {'fit_intercept': True},\n",
       "   'search_param_grid': {'fit_intercept': [True, False]}},\n",
       "  'module_1': {'class': 'RandomForestRegressor',\n",
       "   'module': 'sklearn.ensemble',\n",
       "   'params': {'n_estimators': 40, 'min_samples_leaf': 3},\n",
       "   'search_param_grid': {'min_samples_leaf': [2], 'n_estimators': [50]}}}}"
      ]
     },
     "execution_count": 6,
     "metadata": {},
     "output_type": "execute_result"
    }
   ],
   "source": [
    "model_factory.config"
   ]
  },
  {
   "cell_type": "code",
   "execution_count": 8,
   "id": "92413204",
   "metadata": {},
   "outputs": [
    {
     "name": "stdout",
     "output_type": "stream",
     "text": [
      "None\n"
     ]
    }
   ],
   "source": [
    "print(model_factory.initialized_model_list)"
   ]
  },
  {
   "cell_type": "code",
   "execution_count": 9,
   "id": "18a9e417",
   "metadata": {},
   "outputs": [
    {
     "data": {
      "text/plain": [
       "'sklearn.model_selection'"
      ]
     },
     "execution_count": 9,
     "metadata": {},
     "output_type": "execute_result"
    }
   ],
   "source": [
    "model_factory.grid_search_cv_module"
   ]
  },
  {
   "cell_type": "code",
   "execution_count": 11,
   "id": "b597042e",
   "metadata": {},
   "outputs": [
    {
     "data": {
      "text/plain": [
       "'GridSearchCV'"
      ]
     },
     "execution_count": 11,
     "metadata": {},
     "output_type": "execute_result"
    }
   ],
   "source": [
    "model_factory.grid_search_class_name"
   ]
  },
  {
   "cell_type": "code",
   "execution_count": 10,
   "id": "c8404b18",
   "metadata": {},
   "outputs": [
    {
     "data": {
      "text/plain": [
       "{'cv': 5, 'verbose': 2}"
      ]
     },
     "execution_count": 10,
     "metadata": {},
     "output_type": "execute_result"
    }
   ],
   "source": [
    "model_factory.grid_search_property_data"
   ]
  },
  {
   "cell_type": "code",
   "execution_count": 14,
   "id": "b2c76a86",
   "metadata": {},
   "outputs": [
    {
     "data": {
      "text/plain": [
       "{'module_0': {'class': 'LinearRegression',\n",
       "  'module': 'sklearn.linear_model',\n",
       "  'params': {'fit_intercept': True},\n",
       "  'search_param_grid': {'fit_intercept': [True, False]}},\n",
       " 'module_1': {'class': 'RandomForestRegressor',\n",
       "  'module': 'sklearn.ensemble',\n",
       "  'params': {'n_estimators': 40, 'min_samples_leaf': 3},\n",
       "  'search_param_grid': {'min_samples_leaf': [2], 'n_estimators': [50]}}}"
      ]
     },
     "execution_count": 14,
     "metadata": {},
     "output_type": "execute_result"
    }
   ],
   "source": [
    "models_initialization_config = model_factory.models_initialization_config\n",
    "models_initialization_config"
   ]
  },
  {
   "cell_type": "code",
   "execution_count": 15,
   "id": "c5aae730",
   "metadata": {},
   "outputs": [
    {
     "data": {
      "text/plain": [
       "dict_keys(['module_0', 'module_1'])"
      ]
     },
     "execution_count": 15,
     "metadata": {},
     "output_type": "execute_result"
    }
   ],
   "source": [
    "models_initialization_config.keys()"
   ]
  },
  {
   "cell_type": "code",
   "execution_count": 26,
   "id": "4918393e",
   "metadata": {},
   "outputs": [
    {
     "data": {
      "text/plain": [
       "[{'class': 'LinearRegression',\n",
       "  'module': 'sklearn.linear_model',\n",
       "  'params': {'fit_intercept': True},\n",
       "  'search_param_grid': {'fit_intercept': [True, False]}},\n",
       " {'class': 'RandomForestRegressor',\n",
       "  'module': 'sklearn.ensemble',\n",
       "  'params': {'n_estimators': 40, 'min_samples_leaf': 3},\n",
       "  'search_param_grid': {'min_samples_leaf': [2], 'n_estimators': [50]}}]"
      ]
     },
     "execution_count": 26,
     "metadata": {},
     "output_type": "execute_result"
    }
   ],
   "source": [
    "model_initialization_config =[models_initialization_config['module_0'],models_initialization_config['module_1']]\n",
    "model_initialization_config"
   ]
  },
  {
   "cell_type": "code",
   "execution_count": 22,
   "id": "33ae66d8",
   "metadata": {},
   "outputs": [
    {
     "data": {
      "text/plain": [
       "dict_keys(['class', 'module', 'params', 'search_param_grid'])"
      ]
     },
     "execution_count": 22,
     "metadata": {},
     "output_type": "execute_result"
    }
   ],
   "source": [
    "models_initialization_config['module_0'].keys()"
   ]
  },
  {
   "cell_type": "code",
   "execution_count": null,
   "id": "13244e5f",
   "metadata": {},
   "outputs": [
    {
     "data": {
      "text/plain": [
       "{'class': 'LinearRegression',\n",
       " 'module': 'sklearn.linear_model',\n",
       " 'params': {'fit_intercept': True},\n",
       " 'search_param_grid': {'fit_intercept': [True, False]}}"
      ]
     },
     "execution_count": 29,
     "metadata": {},
     "output_type": "execute_result"
    }
   ],
   "source": [
    "model_initialization_config[0]"
   ]
  },
  {
   "cell_type": "code",
   "execution_count": 30,
   "id": "1bb2d45e",
   "metadata": {},
   "outputs": [
    {
     "data": {
      "text/plain": [
       "{'class': 'RandomForestRegressor',\n",
       " 'module': 'sklearn.ensemble',\n",
       " 'params': {'n_estimators': 40, 'min_samples_leaf': 3},\n",
       " 'search_param_grid': {'min_samples_leaf': [2], 'n_estimators': [50]}}"
      ]
     },
     "execution_count": 30,
     "metadata": {},
     "output_type": "execute_result"
    }
   ],
   "source": [
    "model_initialization_config[1]"
   ]
  },
  {
   "cell_type": "code",
   "execution_count": 31,
   "id": "52533532",
   "metadata": {},
   "outputs": [
    {
     "data": {
      "text/plain": [
       "'sklearn.linear_model'"
      ]
     },
     "execution_count": 31,
     "metadata": {},
     "output_type": "execute_result"
    }
   ],
   "source": [
    "model_initialization_config[0]['module']"
   ]
  },
  {
   "cell_type": "code",
   "execution_count": 32,
   "id": "ef7630e3",
   "metadata": {},
   "outputs": [
    {
     "data": {
      "text/plain": [
       "'LinearRegression'"
      ]
     },
     "execution_count": 32,
     "metadata": {},
     "output_type": "execute_result"
    }
   ],
   "source": [
    "model_initialization_config[0]['class']"
   ]
  },
  {
   "cell_type": "code",
   "execution_count": 34,
   "id": "79fab389",
   "metadata": {},
   "outputs": [
    {
     "data": {
      "text/plain": [
       "{'fit_intercept': True}"
      ]
     },
     "execution_count": 34,
     "metadata": {},
     "output_type": "execute_result"
    }
   ],
   "source": [
    "model_initialization_config[0]['params']"
   ]
  },
  {
   "cell_type": "code",
   "execution_count": null,
   "id": "d2b47e68",
   "metadata": {},
   "outputs": [
    {
     "data": {
      "text/plain": [
       "{'fit_intercept': True}"
      ]
     },
     "execution_count": 36,
     "metadata": {},
     "output_type": "execute_result"
    }
   ],
   "source": [
    "model_obj_property_data = model_initialization_config[0]['params']\n",
    "model_obj_property_data"
   ]
  },
  {
   "cell_type": "code",
   "execution_count": 39,
   "id": "edf64710",
   "metadata": {},
   "outputs": [
    {
     "data": {
      "text/plain": [
       "{'fit_intercept': [True, False]}"
      ]
     },
     "execution_count": 39,
     "metadata": {},
     "output_type": "execute_result"
    }
   ],
   "source": [
    "model_initialization_config[0]['search_param_grid']"
   ]
  },
  {
   "cell_type": "code",
   "execution_count": 17,
   "id": "ddb2fec2",
   "metadata": {},
   "outputs": [],
   "source": [
    "from collections import namedtuple\n",
    "InitializedModelDetail = namedtuple(\"InitializedModelDetail\",[\"model_serial_number\", \n",
    "                                                              \"model\", \n",
    "                                                              \"param_grid_search\", \n",
    "                                                              \"model_name\"])"
   ]
  },
  {
   "cell_type": "code",
   "execution_count": null,
   "id": "40796776",
   "metadata": {},
   "outputs": [],
   "source": []
  },
  {
   "cell_type": "code",
   "execution_count": null,
   "id": "7f6c2713",
   "metadata": {},
   "outputs": [
    {
     "data": {
      "text/plain": [
       "4"
      ]
     },
     "execution_count": 20,
     "metadata": {},
     "output_type": "execute_result"
    }
   ],
   "source": []
  },
  {
   "cell_type": "code",
   "execution_count": null,
   "id": "b811ea9d",
   "metadata": {},
   "outputs": [],
   "source": []
  }
 ],
 "metadata": {
  "kernelspec": {
   "display_name": "Python 3",
   "language": "python",
   "name": "python3"
  },
  "language_info": {
   "codemirror_mode": {
    "name": "ipython",
    "version": 3
   },
   "file_extension": ".py",
   "mimetype": "text/x-python",
   "name": "python",
   "nbconvert_exporter": "python",
   "pygments_lexer": "ipython3",
   "version": "3.9.0"
  }
 },
 "nbformat": 4,
 "nbformat_minor": 5
}
