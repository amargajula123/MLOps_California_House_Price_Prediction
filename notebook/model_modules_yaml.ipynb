{
 "cells": [
  {
   "cell_type": "code",
   "execution_count": 2,
   "id": "434c1bfd",
   "metadata": {},
   "outputs": [],
   "source": [
    "from housing.util.util import read_yaml_file"
   ]
  },
  {
   "cell_type": "code",
   "execution_count": 3,
   "id": "be8e7d6e",
   "metadata": {},
   "outputs": [],
   "source": [
    "config_file_path = \"D:\\ML_Projects\\MLOps_California_House_Price_Prediction\\config\\model.yaml\""
   ]
  },
  {
   "cell_type": "code",
   "execution_count": 4,
   "id": "101657bd",
   "metadata": {},
   "outputs": [
    {
     "data": {
      "text/plain": [
       "{'grid_search': {'class': 'GridSearchCV',\n",
       "  'module': 'sklearn.model_selection',\n",
       "  'params': {'cv': 5, 'verbose': 2}},\n",
       " 'model_selection': {'module_0': {'class': 'LinearRegression',\n",
       "   'module': 'sklearn.linear_model',\n",
       "   'params': {'fit_intercept': True},\n",
       "   'search_param_grid': {'fit_intercept': [True, False]}},\n",
       "  'module_1': {'class': 'RandomForestRegressor',\n",
       "   'module': 'sklearn.ensemble',\n",
       "   'params': {'min_samples_leaf': 3},\n",
       "   'search_param_grid': {'min_samples_leaf': [4, 6]}}}}"
      ]
     },
     "execution_count": 4,
     "metadata": {},
     "output_type": "execute_result"
    }
   ],
   "source": [
    "read_yaml_file(file_path=config_file_path)"
   ]
  },
  {
   "cell_type": "code",
   "execution_count": 1,
   "id": "e709e6fd",
   "metadata": {},
   "outputs": [],
   "source": [
    "from housing.config.configuration import Configuration"
   ]
  },
  {
   "cell_type": "code",
   "execution_count": 6,
   "id": "7ef3e197",
   "metadata": {},
   "outputs": [],
   "source": [
    "import os\n",
    "os.chdir(\"d:\\\\ML_Projects\\\\MLOps_California_House_Price_Prediction\")"
   ]
  },
  {
   "cell_type": "code",
   "execution_count": 7,
   "id": "4c8a2d82",
   "metadata": {},
   "outputs": [],
   "source": [
    "config_file_path = \"D:\\ML_Projects\\MLOps_California_House_Price_Prediction\\config\\config.yaml\""
   ]
  },
  {
   "cell_type": "code",
   "execution_count": 8,
   "id": "40bebef8",
   "metadata": {},
   "outputs": [],
   "source": [
    "config = Configuration(config_file_path=config_file_path)"
   ]
  },
  {
   "cell_type": "code",
   "execution_count": 9,
   "id": "b2faaecc",
   "metadata": {},
   "outputs": [
    {
     "data": {
      "text/plain": [
       "ModelTrainerConfig(trained_model_file_path='d:\\\\ML_Projects\\\\MLOps_California_House_Price_Prediction\\\\notebook\\\\housing\\\\artifact\\\\model_trainer\\\\2025-05-15-12-27-04\\\\trained_model\\\\model.pkl', base_accuracy=0.6, model_config_file_path='config\\\\model.yaml')"
      ]
     },
     "execution_count": 9,
     "metadata": {},
     "output_type": "execute_result"
    }
   ],
   "source": [
    "config.get_model_trainer_config()"
   ]
  },
  {
   "cell_type": "code",
   "execution_count": null,
   "id": "c493167a",
   "metadata": {},
   "outputs": [],
   "source": []
  }
 ],
 "metadata": {
  "kernelspec": {
   "display_name": "Python 3",
   "language": "python",
   "name": "python3"
  },
  "language_info": {
   "codemirror_mode": {
    "name": "ipython",
    "version": 3
   },
   "file_extension": ".py",
   "mimetype": "text/x-python",
   "name": "python",
   "nbconvert_exporter": "python",
   "pygments_lexer": "ipython3",
   "version": "3.9.0"
  }
 },
 "nbformat": 4,
 "nbformat_minor": 5
}
