{
 "cells": [
  {
   "cell_type": "code",
   "execution_count": 2,
   "id": "434c1bfd",
   "metadata": {},
   "outputs": [],
   "source": [
    "from housing.util.util import read_yaml_file"
   ]
  },
  {
   "cell_type": "code",
   "execution_count": 3,
   "id": "be8e7d6e",
   "metadata": {},
   "outputs": [],
   "source": [
    "config_file_path = \"D:\\ML_Projects\\MLOps_California_House_Price_Prediction\\config\\model.yaml\""
   ]
  },
  {
   "cell_type": "code",
   "execution_count": 4,
   "id": "101657bd",
   "metadata": {},
   "outputs": [
    {
     "data": {
      "text/plain": [
       "{'grid_search': {'class': 'GridSearchCV',\n",
       "  'module': 'sklearn.model_selection',\n",
       "  'params': {'cv': 5, 'verbose': 2}},\n",
       " 'model_selection': {'module_0': {'class': 'LinearRegression',\n",
       "   'module': 'sklearn.linear_model',\n",
       "   'params': {'fit_intercept': True},\n",
       "   'search_param_grid': {'fit_intercept': [True, False]}},\n",
       "  'module_1': {'class': 'RandomForestRegressor',\n",
       "   'module': 'sklearn.ensemble',\n",
       "   'params': {'min_samples_leaf': 3},\n",
       "   'search_param_grid': {'min_samples_leaf': [4, 6]}}}}"
      ]
     },
     "execution_count": 4,
     "metadata": {},
     "output_type": "execute_result"
    }
   ],
   "source": [
    "read_yaml_file(file_path=config_file_path)"
   ]
  },
  {
   "cell_type": "code",
   "execution_count": 1,
   "id": "e709e6fd",
   "metadata": {},
   "outputs": [],
   "source": [
    "from housing.config.configuration import Configuration"
   ]
  },
  {
   "cell_type": "code",
   "execution_count": 6,
   "id": "7ef3e197",
   "metadata": {},
   "outputs": [],
   "source": [
    "import os\n",
    "os.chdir(\"d:\\\\ML_Projects\\\\MLOps_California_House_Price_Prediction\")"
   ]
  },
  {
   "cell_type": "code",
   "execution_count": 7,
   "id": "4c8a2d82",
   "metadata": {},
   "outputs": [],
   "source": [
    "config_file_path = \"D:\\ML_Projects\\MLOps_California_House_Price_Prediction\\config\\config.yaml\""
   ]
  },
  {
   "cell_type": "code",
   "execution_count": 8,
   "id": "40bebef8",
   "metadata": {},
   "outputs": [],
   "source": [
    "config = Configuration(config_file_path=config_file_path)"
   ]
  },
  {
   "cell_type": "code",
   "execution_count": 9,
   "id": "b2faaecc",
   "metadata": {},
   "outputs": [
    {
     "data": {
      "text/plain": [
       "ModelTrainerConfig(trained_model_file_path='d:\\\\ML_Projects\\\\MLOps_California_House_Price_Prediction\\\\notebook\\\\housing\\\\artifact\\\\model_trainer\\\\2025-05-15-12-27-04\\\\trained_model\\\\model.pkl', base_accuracy=0.6, model_config_file_path='config\\\\model.yaml')"
      ]
     },
     "execution_count": 9,
     "metadata": {},
     "output_type": "execute_result"
    }
   ],
   "source": [
    "config.get_model_trainer_config()"
   ]
  },
  {
   "cell_type": "code",
   "execution_count": null,
   "id": "c493167a",
   "metadata": {},
   "outputs": [],
   "source": []
  },
  {
   "cell_type": "code",
   "execution_count": null,
   "id": "0d0ed057",
   "metadata": {},
   "outputs": [],
   "source": []
  },
  {
   "cell_type": "code",
   "execution_count": null,
   "id": "c3777a5c",
   "metadata": {},
   "outputs": [],
   "source": []
  },
  {
   "cell_type": "code",
   "execution_count": 7,
   "id": "f546e8b5",
   "metadata": {},
   "outputs": [
    {
     "ename": "FileNotFoundError",
     "evalue": "[Errno 2] No such file or directory: 'requirements.txt'",
     "output_type": "error",
     "traceback": [
      "\u001b[1;31m---------------------------------------------------------------------------\u001b[0m",
      "\u001b[1;31mFileNotFoundError\u001b[0m                         Traceback (most recent call last)",
      "Cell \u001b[1;32mIn[7], line 2\u001b[0m\n\u001b[0;32m      1\u001b[0m REQUIREMENT_FILE_NAME \u001b[38;5;241m=\u001b[39m \u001b[38;5;124m'\u001b[39m\u001b[38;5;124mrequirements.txt\u001b[39m\u001b[38;5;124m'\u001b[39m\n\u001b[1;32m----> 2\u001b[0m \u001b[38;5;28;01mimport\u001b[39;00m\u001b[38;5;250m \u001b[39m\u001b[38;5;21;01msetup\u001b[39;00m\n",
      "File \u001b[1;32md:\\ml_projects\\mlops_california_house_price_prediction\\setup.py:32\u001b[0m\n\u001b[0;32m     21\u001b[0m         requirements\u001b[38;5;241m.\u001b[39mremove(\u001b[38;5;124m\"\u001b[39m\u001b[38;5;124m-e .\u001b[39m\u001b[38;5;124m\"\u001b[39m)  \u001b[38;5;66;03m# Remove \"-e .\" safely\u001b[39;00m\n\u001b[0;32m     22\u001b[0m     \u001b[38;5;28;01mreturn\u001b[39;00m requirements\n\u001b[0;32m     26\u001b[0m setup(\n\u001b[0;32m     27\u001b[0m     name\u001b[38;5;241m=\u001b[39mPROJECT_NAME,\n\u001b[0;32m     28\u001b[0m     version\u001b[38;5;241m=\u001b[39mVERSION,\n\u001b[0;32m     29\u001b[0m     author\u001b[38;5;241m=\u001b[39mAUTHOR,\n\u001b[0;32m     30\u001b[0m     description\u001b[38;5;241m=\u001b[39mDESCRIPTION,\n\u001b[0;32m     31\u001b[0m     packages\u001b[38;5;241m=\u001b[39mfind_packages(),  \u001b[38;5;66;03m# Finds all Python packages with __init__.py for installing\u001b[39;00m\n\u001b[1;32m---> 32\u001b[0m     install_requires\u001b[38;5;241m=\u001b[39m\u001b[43mget_requirements_list\u001b[49m\u001b[43m(\u001b[49m\u001b[43m)\u001b[49m  \u001b[38;5;66;03m# Installs dependencies\u001b[39;00m\n\u001b[0;32m     33\u001b[0m )\n\u001b[0;32m     34\u001b[0m \u001b[38;5;66;03m# Your own packages/modules (find_packages())\u001b[39;00m\n\u001b[0;32m     35\u001b[0m \n\u001b[0;32m     36\u001b[0m \u001b[38;5;66;03m# External libraries (install_requires)\u001b[39;00m\n\u001b[1;32m   (...)\u001b[0m\n\u001b[0;32m     49\u001b[0m \u001b[38;5;66;03m# so here in requirements.txt \"-e .\" will also search for all the files for the instalation\u001b[39;00m\n\u001b[0;32m     50\u001b[0m \u001b[38;5;66;03m# that is the ression we removed (-e.) from requirements.txt so that External will install\u001b[39;00m\n",
      "File \u001b[1;32md:\\ml_projects\\mlops_california_house_price_prediction\\setup.py:17\u001b[0m, in \u001b[0;36mget_requirements_list\u001b[1;34m()\u001b[0m\n\u001b[0;32m     11\u001b[0m \u001b[38;5;28;01mdef\u001b[39;00m\u001b[38;5;250m \u001b[39m\u001b[38;5;21mget_requirements_list\u001b[39m() \u001b[38;5;241m-\u001b[39m\u001b[38;5;241m>\u001b[39m List[\u001b[38;5;28mstr\u001b[39m]:\n\u001b[0;32m     12\u001b[0m \u001b[38;5;250m    \u001b[39m\u001b[38;5;124;03m\"\"\"\u001b[39;00m\n\u001b[0;32m     13\u001b[0m \u001b[38;5;124;03m    Description: \u001b[39;00m\n\u001b[0;32m     14\u001b[0m \u001b[38;5;124;03m    Returns a list of dependencies/libraries from \u001b[39;00m\n\u001b[0;32m     15\u001b[0m \u001b[38;5;124;03m    requirements.txt, excluding '-e .'\u001b[39;00m\n\u001b[0;32m     16\u001b[0m \u001b[38;5;124;03m    \"\"\"\u001b[39;00m\n\u001b[1;32m---> 17\u001b[0m     \u001b[38;5;28;01mwith\u001b[39;00m \u001b[38;5;28;43mopen\u001b[39;49m\u001b[43m(\u001b[49m\u001b[43mREQUIREMENT_FILE_NAME\u001b[49m\u001b[43m)\u001b[49m \u001b[38;5;28;01mas\u001b[39;00m requirement_file:\n\u001b[0;32m     18\u001b[0m         requirements \u001b[38;5;241m=\u001b[39m requirement_file\u001b[38;5;241m.\u001b[39mread()\u001b[38;5;241m.\u001b[39msplitlines()  \u001b[38;5;66;03m# Read lines properly\u001b[39;00m\n\u001b[0;32m     20\u001b[0m     \u001b[38;5;28;01mif\u001b[39;00m \u001b[38;5;124m\"\u001b[39m\u001b[38;5;124m-e .\u001b[39m\u001b[38;5;124m\"\u001b[39m \u001b[38;5;129;01min\u001b[39;00m requirements:\n",
      "\u001b[1;31mFileNotFoundError\u001b[0m: [Errno 2] No such file or directory: 'requirements.txt'"
     ]
    }
   ],
   "source": [
    "REQUIREMENT_FILE_NAME = 'requirements.txt'\n",
    "import setup"
   ]
  },
  {
   "cell_type": "code",
   "execution_count": null,
   "id": "02eea874",
   "metadata": {},
   "outputs": [],
   "source": [
    "D:\\ML_Projects\\MLOps_California_House_Price_Prediction\\setup.py"
   ]
  }
 ],
 "metadata": {
  "kernelspec": {
   "display_name": "Python 3",
   "language": "python",
   "name": "python3"
  },
  "language_info": {
   "codemirror_mode": {
    "name": "ipython",
    "version": 3
   },
   "file_extension": ".py",
   "mimetype": "text/x-python",
   "name": "python",
   "nbconvert_exporter": "python",
   "pygments_lexer": "ipython3",
   "version": "3.9.0"
  }
 },
 "nbformat": 4,
 "nbformat_minor": 5
}
