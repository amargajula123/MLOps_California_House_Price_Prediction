{
 "cells": [
  {
   "cell_type": "code",
   "execution_count": 1,
   "id": "6b36a9de",
   "metadata": {},
   "outputs": [
    {
     "data": {
      "text/plain": [
       "'d:\\\\ML_Projects\\\\MLOps_California_House_Price_Prediction\\\\notebook'"
      ]
     },
     "execution_count": 1,
     "metadata": {},
     "output_type": "execute_result"
    }
   ],
   "source": [
    "pwd"
   ]
  },
  {
   "cell_type": "code",
   "execution_count": 1,
   "id": "ba9b5958",
   "metadata": {},
   "outputs": [],
   "source": [
    "from collections import namedtuple"
   ]
  },
  {
   "cell_type": "code",
   "execution_count": 2,
   "id": "569bd321",
   "metadata": {},
   "outputs": [],
   "source": [
    "DataIngestionConfig = namedtuple(\"DataIngestionConfig\",[\"dataset_download_url\",\n",
    "                                                        \"tgz_download_dir\",\n",
    "                                                        \"raw_data_dir\",\n",
    "                                                        \"ingested_train_dir\",\n",
    "                                                        \"ingested_test_dir\"])"
   ]
  },
  {
   "cell_type": "code",
   "execution_count": 6,
   "id": "445cabef",
   "metadata": {},
   "outputs": [
    {
     "data": {
      "text/plain": [
       "DataIngestionConfig(dataset_download_url='this is url location', tgz_download_dir='zip file location', raw_data_dir='extracted zip file location', ingested_train_dir='train data file location', ingested_test_dir='test data file location')"
      ]
     },
     "execution_count": 6,
     "metadata": {},
     "output_type": "execute_result"
    }
   ],
   "source": [
    "data_ingestion_config = DataIngestionConfig(dataset_download_url=\"this is url location\",\n",
    "                    tgz_download_dir=\"zip file location\",\n",
    "                    raw_data_dir=\"extracted zip file location\",\n",
    "                    ingested_train_dir=\"train data file location\",\n",
    "                    ingested_test_dir=\"test data file location\")\n",
    "\n",
    "\n",
    "data_ingestion_config"
   ]
  },
  {
   "cell_type": "code",
   "execution_count": null,
   "id": "c2e20190",
   "metadata": {},
   "outputs": [],
   "source": []
  }
 ],
 "metadata": {
  "kernelspec": {
   "display_name": "Python 3",
   "language": "python",
   "name": "python3"
  },
  "language_info": {
   "codemirror_mode": {
    "name": "ipython",
    "version": 3
   },
   "file_extension": ".py",
   "mimetype": "text/x-python",
   "name": "python",
   "nbconvert_exporter": "python",
   "pygments_lexer": "ipython3",
   "version": "3.9.0"
  }
 },
 "nbformat": 4,
 "nbformat_minor": 5
}
