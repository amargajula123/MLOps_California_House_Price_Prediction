{
 "cells": [
  {
   "cell_type": "code",
   "execution_count": 3,
   "id": "1512c075",
   "metadata": {},
   "outputs": [],
   "source": [
    "from housing.exception import HousingException\n",
    "from housing.logger import logging\n"
   ]
  },
  {
   "cell_type": "code",
   "execution_count": 12,
   "id": "20bda4c0",
   "metadata": {},
   "outputs": [
    {
     "ename": "Exception",
     "evalue": "Training file: 'None' or Testing file: 'Available_path'is not present",
     "output_type": "error",
     "traceback": [
      "\u001b[1;31m---------------------------------------------------------------------------\u001b[0m",
      "\u001b[1;31mException\u001b[0m                                 Traceback (most recent call last)",
      "Cell \u001b[1;32mIn[12], line 9\u001b[0m\n\u001b[0;32m      6\u001b[0m message\u001b[38;5;241m=\u001b[39m\u001b[38;5;124mf\u001b[39m\u001b[38;5;124m\"\u001b[39m\u001b[38;5;124mTraining file: \u001b[39m\u001b[38;5;132;01m{\u001b[39;00mtraining_file\u001b[38;5;132;01m}\u001b[39;00m\u001b[38;5;124m or Testing file: \u001b[39m\u001b[38;5;132;01m{\u001b[39;00mtesting_file\u001b[38;5;132;01m}\u001b[39;00m\u001b[38;5;124m\"\u001b[39m \\\n\u001b[0;32m      7\u001b[0m     \u001b[38;5;124m\"\u001b[39m\u001b[38;5;124mis not present\u001b[39m\u001b[38;5;124m\"\u001b[39m\n\u001b[0;32m      8\u001b[0m logging\u001b[38;5;241m.\u001b[39minfo(\u001b[38;5;124mf\u001b[39m\u001b[38;5;124m\"\u001b[39m\u001b[38;5;124mFile not found Message = [\u001b[39m\u001b[38;5;132;01m{\u001b[39;00mmessage\u001b[38;5;132;01m}\u001b[39;00m\u001b[38;5;124m]\u001b[39m\u001b[38;5;124m\"\u001b[39m)\n\u001b[1;32m----> 9\u001b[0m \u001b[38;5;28;01mraise\u001b[39;00m \u001b[38;5;167;01mException\u001b[39;00m(message)\n",
      "\u001b[1;31mException\u001b[0m: Training file: 'None' or Testing file: 'Available_path'is not present"
     ]
    }
   ],
   "source": [
    "\n",
    "is_available = False\n",
    "\n",
    "if not is_available:\n",
    "    training_file = f\"'{None}'\"\n",
    "    testing_file = f\"'{'Available_path'}'\"\n",
    "    message=f\"Training file: {training_file} or Testing file: {testing_file}\" \\\n",
    "        \"is not present\"\n",
    "    logging.info(f\"File not found Message = [{message}]\")\n",
    "    raise Exception(message)\n"
   ]
  },
  {
   "cell_type": "code",
   "execution_count": null,
   "id": "dff0c376",
   "metadata": {},
   "outputs": [],
   "source": []
  },
  {
   "cell_type": "code",
   "execution_count": null,
   "id": "3a81c704",
   "metadata": {},
   "outputs": [],
   "source": []
  },
  {
   "cell_type": "code",
   "execution_count": null,
   "id": "e689ac28",
   "metadata": {},
   "outputs": [],
   "source": []
  },
  {
   "cell_type": "code",
   "execution_count": 1,
   "id": "08954f71",
   "metadata": {},
   "outputs": [],
   "source": [
    "import webbrowser\n",
    "from evidently.report import Report\n",
    "from evidently.metric_preset import DataDriftPreset"
   ]
  },
  {
   "cell_type": "code",
   "execution_count": null,
   "id": "d7ac557b",
   "metadata": {},
   "outputs": [],
   "source": []
  },
  {
   "cell_type": "code",
   "execution_count": 1,
   "id": "ed49d3e2",
   "metadata": {},
   "outputs": [],
   "source": [
    "from housing.config.configuration import Configuration"
   ]
  },
  {
   "cell_type": "code",
   "execution_count": 2,
   "id": "15b4e41c",
   "metadata": {},
   "outputs": [],
   "source": [
    "import os\n",
    "os.chdir(\"d:\\\\ML_Projects\\\\MLOps_California_House_Price_Prediction\")"
   ]
  },
  {
   "cell_type": "code",
   "execution_count": 3,
   "id": "0b291f90",
   "metadata": {},
   "outputs": [
    {
     "data": {
      "text/plain": [
       "'d:\\\\ML_Projects\\\\MLOps_California_House_Price_Prediction'"
      ]
     },
     "execution_count": 3,
     "metadata": {},
     "output_type": "execute_result"
    }
   ],
   "source": [
    "pwd"
   ]
  },
  {
   "cell_type": "code",
   "execution_count": null,
   "id": "b286f7e6",
   "metadata": {},
   "outputs": [],
   "source": [
    "config = Configuration(config_file_path=\"d:\\\\ML_Projects\\\\MLOps_California_House_Price_Prediction\\\\config\\\\config.yaml\")"
   ]
  },
  {
   "cell_type": "code",
   "execution_count": 7,
   "id": "9c77044c",
   "metadata": {},
   "outputs": [],
   "source": [
    "data_validation_config = config.get_data_validation_config()"
   ]
  },
  {
   "cell_type": "code",
   "execution_count": 9,
   "id": "ec600631",
   "metadata": {},
   "outputs": [
    {
     "data": {
      "text/plain": [
       "'d:\\\\ML_Projects\\\\MLOps_California_House_Price_Prediction\\\\notebook\\\\housing\\\\artifact\\\\data_validation\\\\2025-05-10-08-42-45\\\\report.json'"
      ]
     },
     "execution_count": 9,
     "metadata": {},
     "output_type": "execute_result"
    }
   ],
   "source": [
    "data_validation_config.report_file_path"
   ]
  },
  {
   "cell_type": "code",
   "execution_count": null,
   "id": "c95e45ed",
   "metadata": {},
   "outputs": [],
   "source": [
    "import os,sys\n",
    "from housing.exception import HousingException\n",
    "import json\n",
    "import pandas as pd\n",
    "import webbrowser\n",
    "from evidently.report import Report\n",
    "from evidently.metric_preset import DataDriftPreset\n",
    "\n",
    "def get_and_save_data_drift_report(self):\n",
    "        \"\"\"\n",
    "        Generates a JSON data drift report and saves it.\n",
    "        \"\"\"\n",
    "        try:\n",
    "            # Create a detailed data drift report\n",
    "            report = Report(metrics=[DataDriftPreset()])\n",
    "\n",
    "            train_path =r\"D:\\ML_Projects\\MLOps_California_House_Price_Prediction\\housing\\artifact\\data_ingestion\\2025-05-09-21-10-56\\ingested_data\\train\\housing.csv\"\n",
    "            test_path = r\"D:\\ML_Projects\\MLOps_California_House_Price_Prediction\\housing\\artifact\\data_ingestion\\2025-05-09-21-10-56\\ingested_data\\test\\housing.csv\"\n",
    "            # Load data from file paths\n",
    "            train_df = pd.read_csv(train_path)\n",
    "            test_df = pd.read_csv(test_path)\n",
    "\n",
    "            # Run the report\n",
    "            report.run(reference_data=train_df, current_data=test_df)\n",
    "\n",
    "            # Convert report to JSON\n",
    "            report_json = report.as_dict()\n",
    "\n",
    "            # Save the report as a JSON file\n",
    "            report_file_path = data_validation_config.report_file_path\n",
    "            os.makedirs(os.path.dirname(report_file_path), exist_ok=True)\n",
    "            with open(report_file_path, \"w\") as report_file:\n",
    "                json.dump(report_json, report_file, indent=6)\n",
    "\n",
    "            return report_json\n",
    "\n",
    "        except Exception as e:\n",
    "             raise HousingException(e,sys) from e"
   ]
  },
  {
   "cell_type": "code",
   "execution_count": 13,
   "id": "519013a3",
   "metadata": {},
   "outputs": [],
   "source": [
    "def save_data_drift_report_page(self):\n",
    "        \"\"\"\n",
    "        Generates and saves a dataset drift \n",
    "        report as an HTML file with column-wise drift graphs.\n",
    "        \"\"\"\n",
    "        try:\n",
    "            # Create a detailed drift report with graphs\n",
    "            report = Report(metrics=[DataDriftPreset()])\n",
    "\n",
    "            # Load train and test datasets\n",
    "            train_path =r\"D:\\ML_Projects\\MLOps_California_House_Price_Prediction\\housing\\artifact\\data_ingestion\\2025-05-09-21-10-56\\ingested_data\\train\\housing.csv\"\n",
    "            test_path = r\"D:\\ML_Projects\\MLOps_California_House_Price_Prediction\\housing\\artifact\\data_ingestion\\2025-05-09-21-10-56\\ingested_data\\test\\housing.csv\"\n",
    "            # Load data from file paths\n",
    "            train_df = pd.read_csv(train_path)\n",
    "            test_df = pd.read_csv(test_path)\n",
    "\n",
    "\n",
    "            # Run the report\n",
    "            report.run(reference_data=train_df, current_data=test_df)\n",
    "\n",
    "            # Save the report as an HTML file\n",
    "            report_page_file_path = data_validation_config.report_page_file_path\n",
    "            os.makedirs(os.path.dirname(report_page_file_path), exist_ok=True)\n",
    "            report.save_html(report_page_file_path)\n",
    "\n",
    "        except Exception as e:\n",
    "            raise HousingException(e) from e"
   ]
  },
  {
   "cell_type": "code",
   "execution_count": null,
   "id": "7677e060",
   "metadata": {},
   "outputs": [],
   "source": []
  },
  {
   "cell_type": "code",
   "execution_count": null,
   "id": "f5db2e72",
   "metadata": {},
   "outputs": [],
   "source": [
    "try:\n",
    "    raise Exception(\"testing Exception\")\n",
    "except Exception as e:\n",
    "    obj = HousingException(e,sys)"
   ]
  }
 ],
 "metadata": {
  "kernelspec": {
   "display_name": "Python 3",
   "language": "python",
   "name": "python3"
  },
  "language_info": {
   "codemirror_mode": {
    "name": "ipython",
    "version": 3
   },
   "file_extension": ".py",
   "mimetype": "text/x-python",
   "name": "python",
   "nbconvert_exporter": "python",
   "pygments_lexer": "ipython3",
   "version": "3.9.0"
  }
 },
 "nbformat": 4,
 "nbformat_minor": 5
}
