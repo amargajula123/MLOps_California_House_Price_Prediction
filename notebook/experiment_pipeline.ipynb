{
 "cells": [
  {
   "cell_type": "code",
   "execution_count": 1,
   "id": "b9a1eed5",
   "metadata": {},
   "outputs": [],
   "source": [
    "from housing.pipeline.pipeline import Pipeline"
   ]
  },
  {
   "cell_type": "code",
   "execution_count": 2,
   "id": "169f8624",
   "metadata": {},
   "outputs": [],
   "source": [
    "from collections import namedtuple\n",
    "Experiment = namedtuple(\"Experiment\", [\"experiment_id\" ,  \"initialization_timestamp\",  \"artifact_time_stamp\" ,\n",
    "                                       \"running_status\",  \"start_time\"              ,  \"stop_time\"           ,  \n",
    "                                       \"execution_time\",  \"message\"                 ,  \"experiment_file_path\",\n",
    "                                       \"accuracy\"      ,  \"is_model_accepted\" \n",
    "                                       ])"
   ]
  },
  {
   "cell_type": "code",
   "execution_count": 3,
   "id": "7472fc1e",
   "metadata": {},
   "outputs": [],
   "source": [
    "experiment: Experiment = Experiment(*([None] * 11))"
   ]
  },
  {
   "cell_type": "code",
   "execution_count": 4,
   "id": "bc49eeea",
   "metadata": {},
   "outputs": [
    {
     "data": {
      "text/plain": [
       "Experiment(experiment_id=None, initialization_timestamp=None, artifact_time_stamp=None, running_status=None, start_time=None, stop_time=None, execution_time=None, message=None, experiment_file_path=None, accuracy=None, is_model_accepted=None)"
      ]
     },
     "execution_count": 4,
     "metadata": {},
     "output_type": "execute_result"
    }
   ],
   "source": [
    "experiment"
   ]
  },
  {
   "cell_type": "code",
   "execution_count": 3,
   "id": "33364191",
   "metadata": {},
   "outputs": [],
   "source": [
    "import os"
   ]
  },
  {
   "cell_type": "code",
   "execution_count": 6,
   "id": "c89de168",
   "metadata": {},
   "outputs": [
    {
     "data": {
      "text/plain": [
       "'..'"
      ]
     },
     "execution_count": 6,
     "metadata": {},
     "output_type": "execute_result"
    }
   ],
   "source": [
    "os.pardir"
   ]
  },
  {
   "cell_type": "code",
   "execution_count": 4,
   "id": "11a961f5",
   "metadata": {},
   "outputs": [],
   "source": [
    "os.chdir(os.pardir)"
   ]
  },
  {
   "cell_type": "code",
   "execution_count": 5,
   "id": "b5933600",
   "metadata": {},
   "outputs": [
    {
     "data": {
      "text/plain": [
       "'d:\\\\ML_Projects\\\\MLOps_California_House_Price_Prediction'"
      ]
     },
     "execution_count": 5,
     "metadata": {},
     "output_type": "execute_result"
    }
   ],
   "source": [
    "os.getcwd()"
   ]
  },
  {
   "cell_type": "code",
   "execution_count": 6,
   "id": "6fd06a6b",
   "metadata": {},
   "outputs": [
    {
     "data": {
      "text/plain": [
       "'d:\\\\ML_Projects\\\\MLOps_California_House_Price_Prediction'"
      ]
     },
     "execution_count": 6,
     "metadata": {},
     "output_type": "execute_result"
    }
   ],
   "source": [
    "pwd"
   ]
  },
  {
   "cell_type": "code",
   "execution_count": 7,
   "id": "1c71bcad",
   "metadata": {},
   "outputs": [
    {
     "data": {
      "text/plain": [
       "'d:\\\\ML_Projects\\\\MLOps_California_House_Price_Prediction\\\\config\\\\config.yaml'"
      ]
     },
     "execution_count": 7,
     "metadata": {},
     "output_type": "execute_result"
    }
   ],
   "source": [
    "config_file_path = os.path.join(os.getcwd(),\"config\",\"config.yaml\")\n",
    "config_file_path"
   ]
  },
  {
   "cell_type": "code",
   "execution_count": 8,
   "id": "85b7edb6",
   "metadata": {},
   "outputs": [
    {
     "data": {
      "text/plain": [
       "TrainingPipelineConfig(artifact_dir='d:\\\\ML_Projects\\\\MLOps_California_House_Price_Prediction\\\\notebook\\\\housing\\\\artifact')"
      ]
     },
     "execution_count": 8,
     "metadata": {},
     "output_type": "execute_result"
    }
   ],
   "source": [
    "from housing.config.configuration import Configuration\n",
    "config =Configuration(config_file_path=config_file_path)\n",
    "config.get_training_pipeline_config()"
   ]
  },
  {
   "cell_type": "code",
   "execution_count": 9,
   "id": "fc8db850",
   "metadata": {},
   "outputs": [
    {
     "data": {
      "text/plain": [
       "<Pipeline(pipeline, initial)>"
      ]
     },
     "execution_count": 9,
     "metadata": {},
     "output_type": "execute_result"
    }
   ],
   "source": [
    "config = Pipeline(config=config)\n",
    "config"
   ]
  },
  {
   "cell_type": "code",
   "execution_count": 14,
   "id": "8d550460",
   "metadata": {},
   "outputs": [],
   "source": [
    "config1 = Pipeline(config=Configuration(config_file_path=config_file_path))"
   ]
  },
  {
   "cell_type": "code",
   "execution_count": 15,
   "id": "08458a43",
   "metadata": {},
   "outputs": [
    {
     "data": {
      "text/plain": [
       "<Pipeline(pipeline, initial)>"
      ]
     },
     "execution_count": 15,
     "metadata": {},
     "output_type": "execute_result"
    }
   ],
   "source": [
    "config1"
   ]
  },
  {
   "cell_type": "code",
   "execution_count": 10,
   "id": "980bd4e4",
   "metadata": {},
   "outputs": [
    {
     "data": {
      "text/plain": [
       "Experiment(experiment_id=None, initialization_timestamp=None, artifact_time_stamp=None, running_status=None, start_time=None, stop_time=None, execution_time=None, message=None, experiment_file_path=None, accuracy=None, is_model_accepted=None)"
      ]
     },
     "execution_count": 10,
     "metadata": {},
     "output_type": "execute_result"
    }
   ],
   "source": [
    "config.experiment"
   ]
  },
  {
   "cell_type": "code",
   "execution_count": 17,
   "id": "83dccb90",
   "metadata": {},
   "outputs": [
    {
     "data": {
      "text/plain": [
       "Experiment(experiment_id=None, initialization_timestamp=None, artifact_time_stamp=None, running_status=None, start_time=None, stop_time=None, execution_time=None, message=None, experiment_file_path=None, accuracy=None, is_model_accepted=None)"
      ]
     },
     "execution_count": 17,
     "metadata": {},
     "output_type": "execute_result"
    }
   ],
   "source": [
    "config1.experiment"
   ]
  },
  {
   "cell_type": "code",
   "execution_count": 11,
   "id": "b2e46a23",
   "metadata": {},
   "outputs": [],
   "source": [
    "config = Configuration(config_file_path=config_file_path)\n",
    "pipeline1 = Pipeline(config=config)"
   ]
  },
  {
   "cell_type": "code",
   "execution_count": 12,
   "id": "2d82428c",
   "metadata": {},
   "outputs": [
    {
     "data": {
      "text/plain": [
       "Experiment(experiment_id=None, initialization_timestamp=None, artifact_time_stamp=None, running_status=None, start_time=None, stop_time=None, execution_time=None, message=None, experiment_file_path=None, accuracy=None, is_model_accepted=None)"
      ]
     },
     "execution_count": 12,
     "metadata": {},
     "output_type": "execute_result"
    }
   ],
   "source": [
    "pipeline1.experiment"
   ]
  },
  {
   "cell_type": "code",
   "execution_count": 13,
   "id": "123bce96",
   "metadata": {},
   "outputs": [],
   "source": [
    "pipeline1.start()"
   ]
  },
  {
   "cell_type": "code",
   "execution_count": 14,
   "id": "5449b898",
   "metadata": {},
   "outputs": [
    {
     "data": {
      "text/plain": [
       "Experiment(experiment_id='d6e09249-a93a-4944-aad6-20a9f0d7d791', initialization_timestamp='2025-05-21-22-25-19', artifact_time_stamp='2025-05-21-22-25-19', running_status=True, start_time=datetime.datetime(2025, 5, 21, 22, 26, 25, 256533), stop_time=None, execution_time=None, message='Pipeline has been started.', experiment_file_path='d:\\\\ML_Projects\\\\MLOps_California_House_Price_Prediction\\\\notebook\\\\housing\\\\artifact\\\\experiment\\\\experiment.csv', accuracy=None, is_model_accepted=None)"
      ]
     },
     "execution_count": 14,
     "metadata": {},
     "output_type": "execute_result"
    }
   ],
   "source": [
    "pipeline1.experiment"
   ]
  },
  {
   "cell_type": "code",
   "execution_count": 16,
   "id": "7f36470f",
   "metadata": {},
   "outputs": [
    {
     "data": {
      "text/plain": [
       "Experiment(experiment_id='d6e09249-a93a-4944-aad6-20a9f0d7d791', initialization_timestamp='2025-05-21-22-25-19', artifact_time_stamp='2025-05-21-22-25-19', running_status=True, start_time=datetime.datetime(2025, 5, 21, 22, 26, 25, 256533), stop_time=None, execution_time=None, message='Pipeline has been started.', experiment_file_path='d:\\\\ML_Projects\\\\MLOps_California_House_Price_Prediction\\\\notebook\\\\housing\\\\artifact\\\\experiment\\\\experiment.csv', accuracy=None, is_model_accepted=None)"
      ]
     },
     "execution_count": 16,
     "metadata": {},
     "output_type": "execute_result"
    }
   ],
   "source": [
    "Pipeline.experiment"
   ]
  },
  {
   "cell_type": "code",
   "execution_count": 17,
   "id": "060768a3",
   "metadata": {},
   "outputs": [
    {
     "data": {
      "text/plain": [
       "'d:\\\\ML_Projects\\\\MLOps_California_House_Price_Prediction\\\\notebook\\\\housing\\\\artifact\\\\experiment\\\\experiment.csv'"
      ]
     },
     "execution_count": 17,
     "metadata": {},
     "output_type": "execute_result"
    }
   ],
   "source": [
    "pipeline1.experiment.experiment_file_path"
   ]
  },
  {
   "cell_type": "code",
   "execution_count": 18,
   "id": "5aeb618a",
   "metadata": {},
   "outputs": [
    {
     "ename": "RuntimeError",
     "evalue": "threads can only be started once",
     "output_type": "error",
     "traceback": [
      "\u001b[1;31m---------------------------------------------------------------------------\u001b[0m",
      "\u001b[1;31mRuntimeError\u001b[0m                              Traceback (most recent call last)",
      "Cell \u001b[1;32mIn[18], line 1\u001b[0m\n\u001b[1;32m----> 1\u001b[0m \u001b[43mpipeline1\u001b[49m\u001b[38;5;241;43m.\u001b[39;49m\u001b[43mstart\u001b[49m\u001b[43m(\u001b[49m\u001b[43m)\u001b[49m\n",
      "File \u001b[1;32md:\\ML_Projects\\MLOps_California_House_Price_Prediction\\venv\\lib\\threading.py:865\u001b[0m, in \u001b[0;36mThread.start\u001b[1;34m(self)\u001b[0m\n\u001b[0;32m    862\u001b[0m     \u001b[38;5;28;01mraise\u001b[39;00m \u001b[38;5;167;01mRuntimeError\u001b[39;00m(\u001b[38;5;124m\"\u001b[39m\u001b[38;5;124mthread.__init__() not called\u001b[39m\u001b[38;5;124m\"\u001b[39m)\n\u001b[0;32m    864\u001b[0m \u001b[38;5;28;01mif\u001b[39;00m \u001b[38;5;28mself\u001b[39m\u001b[38;5;241m.\u001b[39m_started\u001b[38;5;241m.\u001b[39mis_set():\n\u001b[1;32m--> 865\u001b[0m     \u001b[38;5;28;01mraise\u001b[39;00m \u001b[38;5;167;01mRuntimeError\u001b[39;00m(\u001b[38;5;124m\"\u001b[39m\u001b[38;5;124mthreads can only be started once\u001b[39m\u001b[38;5;124m\"\u001b[39m)\n\u001b[0;32m    867\u001b[0m \u001b[38;5;28;01mwith\u001b[39;00m _active_limbo_lock:\n\u001b[0;32m    868\u001b[0m     _limbo[\u001b[38;5;28mself\u001b[39m] \u001b[38;5;241m=\u001b[39m \u001b[38;5;28mself\u001b[39m\n",
      "\u001b[1;31mRuntimeError\u001b[0m: threads can only be started once"
     ]
    }
   ],
   "source": [
    "pipeline1.start()"
   ]
  },
  {
   "cell_type": "code",
   "execution_count": 20,
   "id": "3a321863",
   "metadata": {},
   "outputs": [
    {
     "data": {
      "text/plain": [
       "Experiment(experiment_id='d6e09249-a93a-4944-aad6-20a9f0d7d791', initialization_timestamp='2025-05-21-22-25-19', artifact_time_stamp='2025-05-21-22-25-19', running_status=True, start_time=datetime.datetime(2025, 5, 21, 22, 26, 25, 256533), stop_time=None, execution_time=None, message='Pipeline has been started.', experiment_file_path='d:\\\\ML_Projects\\\\MLOps_California_House_Price_Prediction\\\\notebook\\\\housing\\\\artifact\\\\experiment\\\\experiment.csv', accuracy=None, is_model_accepted=None)"
      ]
     },
     "execution_count": 20,
     "metadata": {},
     "output_type": "execute_result"
    }
   ],
   "source": [
    "pipeline1.run_pipeline()"
   ]
  },
  {
   "cell_type": "code",
   "execution_count": 21,
   "id": "9b913c70",
   "metadata": {},
   "outputs": [
    {
     "data": {
      "text/plain": [
       "'d:\\\\ML_Projects\\\\MLOps_California_House_Price_Prediction'"
      ]
     },
     "execution_count": 21,
     "metadata": {},
     "output_type": "execute_result"
    }
   ],
   "source": [
    "pwd"
   ]
  },
  {
   "cell_type": "code",
   "execution_count": 24,
   "id": "1a3adaa8",
   "metadata": {},
   "outputs": [
    {
     "data": {
      "text/html": [
       "<div>\n",
       "<style scoped>\n",
       "    .dataframe tbody tr th:only-of-type {\n",
       "        vertical-align: middle;\n",
       "    }\n",
       "\n",
       "    .dataframe tbody tr th {\n",
       "        vertical-align: top;\n",
       "    }\n",
       "\n",
       "    .dataframe thead th {\n",
       "        text-align: right;\n",
       "    }\n",
       "</style>\n",
       "<table border=\"1\" class=\"dataframe\">\n",
       "  <thead>\n",
       "    <tr style=\"text-align: right;\">\n",
       "      <th></th>\n",
       "      <th>experiment_id</th>\n",
       "      <th>artifact_time_stamp</th>\n",
       "      <th>running_status</th>\n",
       "      <th>start_time</th>\n",
       "      <th>stop_time</th>\n",
       "      <th>execution_time</th>\n",
       "      <th>message</th>\n",
       "      <th>accuracy</th>\n",
       "      <th>is_model_accepted</th>\n",
       "      <th>created_time_stamp</th>\n",
       "    </tr>\n",
       "  </thead>\n",
       "  <tbody>\n",
       "    <tr>\n",
       "      <th>0</th>\n",
       "      <td>d6e09249-a93a-4944-aad6-20a9f0d7d791</td>\n",
       "      <td>2025-05-21-22-25-19</td>\n",
       "      <td>True</td>\n",
       "      <td>2025-05-21 22:26:25.256533</td>\n",
       "      <td>NaN</td>\n",
       "      <td>NaN</td>\n",
       "      <td>Pipeline has been started.</td>\n",
       "      <td>NaN</td>\n",
       "      <td>NaN</td>\n",
       "      <td>2025-05-21 22:26:25.257983</td>\n",
       "    </tr>\n",
       "  </tbody>\n",
       "</table>\n",
       "</div>"
      ],
      "text/plain": [
       "                          experiment_id  artifact_time_stamp  running_status  \\\n",
       "0  d6e09249-a93a-4944-aad6-20a9f0d7d791  2025-05-21-22-25-19            True   \n",
       "\n",
       "                   start_time  stop_time  execution_time  \\\n",
       "0  2025-05-21 22:26:25.256533        NaN             NaN   \n",
       "\n",
       "                      message  accuracy  is_model_accepted  \\\n",
       "0  Pipeline has been started.       NaN                NaN   \n",
       "\n",
       "           created_time_stamp  \n",
       "0  2025-05-21 22:26:25.257983  "
      ]
     },
     "execution_count": 24,
     "metadata": {},
     "output_type": "execute_result"
    }
   ],
   "source": [
    "pipeline1.get_experiments_status()"
   ]
  },
  {
   "cell_type": "code",
   "execution_count": 25,
   "id": "4884ee17",
   "metadata": {},
   "outputs": [
    {
     "data": {
      "text/html": [
       "<div>\n",
       "<style scoped>\n",
       "    .dataframe tbody tr th:only-of-type {\n",
       "        vertical-align: middle;\n",
       "    }\n",
       "\n",
       "    .dataframe tbody tr th {\n",
       "        vertical-align: top;\n",
       "    }\n",
       "\n",
       "    .dataframe thead th {\n",
       "        text-align: right;\n",
       "    }\n",
       "</style>\n",
       "<table border=\"1\" class=\"dataframe\">\n",
       "  <thead>\n",
       "    <tr style=\"text-align: right;\">\n",
       "      <th></th>\n",
       "      <th>experiment_id</th>\n",
       "      <th>artifact_time_stamp</th>\n",
       "      <th>running_status</th>\n",
       "      <th>start_time</th>\n",
       "      <th>stop_time</th>\n",
       "      <th>execution_time</th>\n",
       "      <th>message</th>\n",
       "      <th>accuracy</th>\n",
       "      <th>is_model_accepted</th>\n",
       "      <th>created_time_stamp</th>\n",
       "    </tr>\n",
       "  </thead>\n",
       "  <tbody>\n",
       "    <tr>\n",
       "      <th>0</th>\n",
       "      <td>d6e09249-a93a-4944-aad6-20a9f0d7d791</td>\n",
       "      <td>2025-05-21-22-25-19</td>\n",
       "      <td>True</td>\n",
       "      <td>2025-05-21 22:26:25.256533</td>\n",
       "      <td>NaN</td>\n",
       "      <td>NaN</td>\n",
       "      <td>Pipeline has been started.</td>\n",
       "      <td>NaN</td>\n",
       "      <td>NaN</td>\n",
       "      <td>2025-05-21 22:26:25.257983</td>\n",
       "    </tr>\n",
       "  </tbody>\n",
       "</table>\n",
       "</div>"
      ],
      "text/plain": [
       "                          experiment_id  artifact_time_stamp  running_status  \\\n",
       "0  d6e09249-a93a-4944-aad6-20a9f0d7d791  2025-05-21-22-25-19            True   \n",
       "\n",
       "                   start_time  stop_time  execution_time  \\\n",
       "0  2025-05-21 22:26:25.256533        NaN             NaN   \n",
       "\n",
       "                      message  accuracy  is_model_accepted  \\\n",
       "0  Pipeline has been started.       NaN                NaN   \n",
       "\n",
       "           created_time_stamp  \n",
       "0  2025-05-21 22:26:25.257983  "
      ]
     },
     "execution_count": 25,
     "metadata": {},
     "output_type": "execute_result"
    }
   ],
   "source": [
    "Pipeline.get_experiments_status()"
   ]
  },
  {
   "cell_type": "code",
   "execution_count": 26,
   "id": "8e38f188",
   "metadata": {},
   "outputs": [],
   "source": [
    "config1 = Pipeline(config=Configuration(config_file_path=config_file_path))"
   ]
  },
  {
   "cell_type": "code",
   "execution_count": 27,
   "id": "edafe8a9",
   "metadata": {},
   "outputs": [
    {
     "data": {
      "text/html": [
       "<div>\n",
       "<style scoped>\n",
       "    .dataframe tbody tr th:only-of-type {\n",
       "        vertical-align: middle;\n",
       "    }\n",
       "\n",
       "    .dataframe tbody tr th {\n",
       "        vertical-align: top;\n",
       "    }\n",
       "\n",
       "    .dataframe thead th {\n",
       "        text-align: right;\n",
       "    }\n",
       "</style>\n",
       "<table border=\"1\" class=\"dataframe\">\n",
       "  <thead>\n",
       "    <tr style=\"text-align: right;\">\n",
       "      <th></th>\n",
       "      <th>experiment_id</th>\n",
       "      <th>artifact_time_stamp</th>\n",
       "      <th>running_status</th>\n",
       "      <th>start_time</th>\n",
       "      <th>stop_time</th>\n",
       "      <th>execution_time</th>\n",
       "      <th>message</th>\n",
       "      <th>accuracy</th>\n",
       "      <th>is_model_accepted</th>\n",
       "      <th>created_time_stamp</th>\n",
       "    </tr>\n",
       "  </thead>\n",
       "  <tbody>\n",
       "    <tr>\n",
       "      <th>0</th>\n",
       "      <td>d6e09249-a93a-4944-aad6-20a9f0d7d791</td>\n",
       "      <td>2025-05-21-22-25-19</td>\n",
       "      <td>True</td>\n",
       "      <td>2025-05-21 22:26:25.256533</td>\n",
       "      <td>NaN</td>\n",
       "      <td>NaN</td>\n",
       "      <td>Pipeline has been started.</td>\n",
       "      <td>NaN</td>\n",
       "      <td>NaN</td>\n",
       "      <td>2025-05-21 22:26:25.257983</td>\n",
       "    </tr>\n",
       "  </tbody>\n",
       "</table>\n",
       "</div>"
      ],
      "text/plain": [
       "                          experiment_id  artifact_time_stamp  running_status  \\\n",
       "0  d6e09249-a93a-4944-aad6-20a9f0d7d791  2025-05-21-22-25-19            True   \n",
       "\n",
       "                   start_time  stop_time  execution_time  \\\n",
       "0  2025-05-21 22:26:25.256533        NaN             NaN   \n",
       "\n",
       "                      message  accuracy  is_model_accepted  \\\n",
       "0  Pipeline has been started.       NaN                NaN   \n",
       "\n",
       "           created_time_stamp  \n",
       "0  2025-05-21 22:26:25.257983  "
      ]
     },
     "execution_count": 27,
     "metadata": {},
     "output_type": "execute_result"
    }
   ],
   "source": [
    "config1.get_experiments_status()"
   ]
  },
  {
   "cell_type": "code",
   "execution_count": 28,
   "id": "99e97365",
   "metadata": {},
   "outputs": [],
   "source": [
    "config1.start()"
   ]
  },
  {
   "cell_type": "code",
   "execution_count": 29,
   "id": "58fa14ac",
   "metadata": {},
   "outputs": [
    {
     "data": {
      "text/plain": [
       "Experiment(experiment_id='d6e09249-a93a-4944-aad6-20a9f0d7d791', initialization_timestamp='2025-05-21-22-25-19', artifact_time_stamp='2025-05-21-22-25-19', running_status=True, start_time=datetime.datetime(2025, 5, 21, 22, 26, 25, 256533), stop_time=None, execution_time=None, message='Pipeline has been started.', experiment_file_path='d:\\\\ML_Projects\\\\MLOps_California_House_Price_Prediction\\\\notebook\\\\housing\\\\artifact\\\\experiment\\\\experiment.csv', accuracy=None, is_model_accepted=None)"
      ]
     },
     "execution_count": 29,
     "metadata": {},
     "output_type": "execute_result"
    }
   ],
   "source": [
    "config1.experiment"
   ]
  },
  {
   "cell_type": "code",
   "execution_count": 30,
   "id": "1345d8a6",
   "metadata": {},
   "outputs": [
    {
     "data": {
      "text/html": [
       "<div>\n",
       "<style scoped>\n",
       "    .dataframe tbody tr th:only-of-type {\n",
       "        vertical-align: middle;\n",
       "    }\n",
       "\n",
       "    .dataframe tbody tr th {\n",
       "        vertical-align: top;\n",
       "    }\n",
       "\n",
       "    .dataframe thead th {\n",
       "        text-align: right;\n",
       "    }\n",
       "</style>\n",
       "<table border=\"1\" class=\"dataframe\">\n",
       "  <thead>\n",
       "    <tr style=\"text-align: right;\">\n",
       "      <th></th>\n",
       "      <th>experiment_id</th>\n",
       "      <th>artifact_time_stamp</th>\n",
       "      <th>running_status</th>\n",
       "      <th>start_time</th>\n",
       "      <th>stop_time</th>\n",
       "      <th>execution_time</th>\n",
       "      <th>message</th>\n",
       "      <th>accuracy</th>\n",
       "      <th>is_model_accepted</th>\n",
       "      <th>created_time_stamp</th>\n",
       "    </tr>\n",
       "  </thead>\n",
       "  <tbody>\n",
       "    <tr>\n",
       "      <th>0</th>\n",
       "      <td>d6e09249-a93a-4944-aad6-20a9f0d7d791</td>\n",
       "      <td>2025-05-21-22-25-19</td>\n",
       "      <td>True</td>\n",
       "      <td>2025-05-21 22:26:25.256533</td>\n",
       "      <td>NaN</td>\n",
       "      <td>NaN</td>\n",
       "      <td>Pipeline has been started.</td>\n",
       "      <td>NaN</td>\n",
       "      <td>NaN</td>\n",
       "      <td>2025-05-21 22:26:25.257983</td>\n",
       "    </tr>\n",
       "  </tbody>\n",
       "</table>\n",
       "</div>"
      ],
      "text/plain": [
       "                          experiment_id  artifact_time_stamp  running_status  \\\n",
       "0  d6e09249-a93a-4944-aad6-20a9f0d7d791  2025-05-21-22-25-19            True   \n",
       "\n",
       "                   start_time  stop_time  execution_time  \\\n",
       "0  2025-05-21 22:26:25.256533        NaN             NaN   \n",
       "\n",
       "                      message  accuracy  is_model_accepted  \\\n",
       "0  Pipeline has been started.       NaN                NaN   \n",
       "\n",
       "           created_time_stamp  \n",
       "0  2025-05-21 22:26:25.257983  "
      ]
     },
     "execution_count": 30,
     "metadata": {},
     "output_type": "execute_result"
    }
   ],
   "source": [
    "config1.get_experiments_status()"
   ]
  },
  {
   "cell_type": "code",
   "execution_count": null,
   "id": "24b775a6",
   "metadata": {},
   "outputs": [],
   "source": []
  }
 ],
 "metadata": {
  "kernelspec": {
   "display_name": "Python 3",
   "language": "python",
   "name": "python3"
  },
  "language_info": {
   "codemirror_mode": {
    "name": "ipython",
    "version": 3
   },
   "file_extension": ".py",
   "mimetype": "text/x-python",
   "name": "python",
   "nbconvert_exporter": "python",
   "pygments_lexer": "ipython3",
   "version": "3.9.0"
  }
 },
 "nbformat": 4,
 "nbformat_minor": 5
}
