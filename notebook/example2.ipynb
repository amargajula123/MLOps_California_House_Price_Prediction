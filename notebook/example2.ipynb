{
 "cells": [
  {
   "cell_type": "code",
   "execution_count": 1,
   "id": "00ef3a7f",
   "metadata": {},
   "outputs": [],
   "source": [
    "from housing.constant import *"
   ]
  },
  {
   "cell_type": "code",
   "execution_count": 2,
   "id": "f667747b",
   "metadata": {},
   "outputs": [
    {
     "data": {
      "text/plain": [
       "'d:\\\\ML_Projects\\\\MLOps_California_House_Price_Prediction\\\\notebook'"
      ]
     },
     "execution_count": 2,
     "metadata": {},
     "output_type": "execute_result"
    }
   ],
   "source": [
    "ROOT_DIR"
   ]
  },
  {
   "cell_type": "code",
   "execution_count": 4,
   "id": "e1529ddf",
   "metadata": {},
   "outputs": [],
   "source": [
    "import os\n",
    "import yaml"
   ]
  },
  {
   "cell_type": "code",
   "execution_count": 6,
   "id": "fd827cc8",
   "metadata": {},
   "outputs": [
    {
     "data": {
      "text/plain": [
       "'config\\\\config.yaml'"
      ]
     },
     "execution_count": 6,
     "metadata": {},
     "output_type": "execute_result"
    }
   ],
   "source": [
    "config_file_path = os.path.join(\"config\",\"config.yaml\")\n",
    "config_file_path"
   ]
  },
  {
   "cell_type": "code",
   "execution_count": 9,
   "id": "8f286b92",
   "metadata": {},
   "outputs": [
    {
     "data": {
      "text/plain": [
       "False"
      ]
     },
     "execution_count": 9,
     "metadata": {},
     "output_type": "execute_result"
    }
   ],
   "source": [
    "os.path.exists(config_file_path)"
   ]
  },
  {
   "cell_type": "code",
   "execution_count": 7,
   "id": "3f22eb7d",
   "metadata": {},
   "outputs": [
    {
     "ename": "FileNotFoundError",
     "evalue": "[Errno 2] No such file or directory: 'config\\\\config.yaml'",
     "output_type": "error",
     "traceback": [
      "\u001b[1;31m---------------------------------------------------------------------------\u001b[0m",
      "\u001b[1;31mFileNotFoundError\u001b[0m                         Traceback (most recent call last)",
      "Cell \u001b[1;32mIn[7], line 1\u001b[0m\n\u001b[1;32m----> 1\u001b[0m \u001b[38;5;28;01mwith\u001b[39;00m \u001b[38;5;28;43mopen\u001b[39;49m\u001b[43m(\u001b[49m\u001b[43mconfig_file_path\u001b[49m\u001b[43m,\u001b[49m\u001b[38;5;124;43m\"\u001b[39;49m\u001b[38;5;124;43mrb\u001b[39;49m\u001b[38;5;124;43m\"\u001b[39;49m\u001b[43m)\u001b[49m \u001b[38;5;28;01mas\u001b[39;00m yaml_file:\n\u001b[0;32m      2\u001b[0m     config_info \u001b[38;5;241m=\u001b[39m yaml\u001b[38;5;241m.\u001b[39msafe_load(yaml_file)\n",
      "File \u001b[1;32md:\\ML_Projects\\MLOps_California_House_Price_Prediction\\venv\\lib\\site-packages\\IPython\\core\\interactiveshell.py:284\u001b[0m, in \u001b[0;36m_modified_open\u001b[1;34m(file, *args, **kwargs)\u001b[0m\n\u001b[0;32m    277\u001b[0m \u001b[38;5;28;01mif\u001b[39;00m file \u001b[38;5;129;01min\u001b[39;00m {\u001b[38;5;241m0\u001b[39m, \u001b[38;5;241m1\u001b[39m, \u001b[38;5;241m2\u001b[39m}:\n\u001b[0;32m    278\u001b[0m     \u001b[38;5;28;01mraise\u001b[39;00m \u001b[38;5;167;01mValueError\u001b[39;00m(\n\u001b[0;32m    279\u001b[0m         \u001b[38;5;124mf\u001b[39m\u001b[38;5;124m\"\u001b[39m\u001b[38;5;124mIPython won\u001b[39m\u001b[38;5;124m'\u001b[39m\u001b[38;5;124mt let you open fd=\u001b[39m\u001b[38;5;132;01m{\u001b[39;00mfile\u001b[38;5;132;01m}\u001b[39;00m\u001b[38;5;124m by default \u001b[39m\u001b[38;5;124m\"\u001b[39m\n\u001b[0;32m    280\u001b[0m         \u001b[38;5;124m\"\u001b[39m\u001b[38;5;124mas it is likely to crash IPython. If you know what you are doing, \u001b[39m\u001b[38;5;124m\"\u001b[39m\n\u001b[0;32m    281\u001b[0m         \u001b[38;5;124m\"\u001b[39m\u001b[38;5;124myou can use builtins\u001b[39m\u001b[38;5;124m'\u001b[39m\u001b[38;5;124m open.\u001b[39m\u001b[38;5;124m\"\u001b[39m\n\u001b[0;32m    282\u001b[0m     )\n\u001b[1;32m--> 284\u001b[0m \u001b[38;5;28;01mreturn\u001b[39;00m io_open(file, \u001b[38;5;241m*\u001b[39margs, \u001b[38;5;241m*\u001b[39m\u001b[38;5;241m*\u001b[39mkwargs)\n",
      "\u001b[1;31mFileNotFoundError\u001b[0m: [Errno 2] No such file or directory: 'config\\\\config.yaml'"
     ]
    }
   ],
   "source": [
    "with open(config_file_path,\"rb\") as yaml_file:\n",
    "    config_info = yaml.safe_load(yaml_file)"
   ]
  },
  {
   "cell_type": "code",
   "execution_count": 11,
   "id": "fe008d3d",
   "metadata": {},
   "outputs": [],
   "source": [
    "from housing.config.configuration import Configuration"
   ]
  },
  {
   "cell_type": "code",
   "execution_count": 19,
   "id": "75aff49e",
   "metadata": {},
   "outputs": [
    {
     "data": {
      "text/plain": [
       "'d:\\\\ML_Projects\\\\MLOps_California_House_Price_Prediction'"
      ]
     },
     "execution_count": 19,
     "metadata": {},
     "output_type": "execute_result"
    }
   ],
   "source": [
    "pwd"
   ]
  },
  {
   "cell_type": "code",
   "execution_count": 21,
   "id": "1f2d21fc",
   "metadata": {},
   "outputs": [
    {
     "data": {
      "text/plain": [
       "'config\\\\config.yaml'"
      ]
     },
     "execution_count": 21,
     "metadata": {},
     "output_type": "execute_result"
    }
   ],
   "source": [
    "config_file_path"
   ]
  },
  {
   "cell_type": "code",
   "execution_count": null,
   "id": "57deb6dd",
   "metadata": {},
   "outputs": [],
   "source": []
  },
  {
   "cell_type": "code",
   "execution_count": 22,
   "id": "78faeb1f",
   "metadata": {},
   "outputs": [
    {
     "ename": "HousingException",
     "evalue": "\n        Error occured in script: [d:\\ml_projects\\mlops_california_house_price_prediction\\housing\\config\\configuration.py] \n        at line number: [27] \n        error message: [\n        Error occured in script: [d:\\ml_projects\\mlops_california_house_price_prediction\\housing\\util\\util.py] \n        at line number: [60] \n        error message: [[Errno 2] No such file or directory: 'd:\\\\ML_Projects\\\\MLOps_California_House_Price_Prediction\\\\notebook\\\\config\\\\config.yaml'] \n        \n        ] \n        \n        ",
     "output_type": "error",
     "traceback": [
      "\u001b[1;31m---------------------------------------------------------------------------\u001b[0m",
      "\u001b[1;31mFileNotFoundError\u001b[0m                         Traceback (most recent call last)",
      "File \u001b[1;32md:\\ml_projects\\mlops_california_house_price_prediction\\housing\\util\\util.py:57\u001b[0m, in \u001b[0;36mread_yaml_file\u001b[1;34m(file_path)\u001b[0m\n\u001b[0;32m     56\u001b[0m \u001b[38;5;28;01mtry\u001b[39;00m:\n\u001b[1;32m---> 57\u001b[0m     \u001b[38;5;28;01mwith\u001b[39;00m \u001b[38;5;28;43mopen\u001b[39;49m\u001b[43m(\u001b[49m\u001b[43mfile_path\u001b[49m\u001b[43m,\u001b[49m\u001b[38;5;124;43m\"\u001b[39;49m\u001b[38;5;124;43mrb\u001b[39;49m\u001b[38;5;124;43m\"\u001b[39;49m\u001b[43m)\u001b[49m \u001b[38;5;28;01mas\u001b[39;00m yaml_file:\n\u001b[0;32m     58\u001b[0m         \u001b[38;5;28;01mreturn\u001b[39;00m yaml\u001b[38;5;241m.\u001b[39msafe_load(yaml_file)\n",
      "\u001b[1;31mFileNotFoundError\u001b[0m: [Errno 2] No such file or directory: 'd:\\\\ML_Projects\\\\MLOps_California_House_Price_Prediction\\\\notebook\\\\config\\\\config.yaml'",
      "\nThe above exception was the direct cause of the following exception:\n",
      "\u001b[1;31mHousingException\u001b[0m                          Traceback (most recent call last)",
      "File \u001b[1;32md:\\ml_projects\\mlops_california_house_price_prediction\\housing\\config\\configuration.py:23\u001b[0m, in \u001b[0;36mConfiguration.__init__\u001b[1;34m(self, config_file_path, current_time_stamp)\u001b[0m\n\u001b[0;32m     22\u001b[0m \u001b[38;5;28;01mtry\u001b[39;00m:\n\u001b[1;32m---> 23\u001b[0m     \u001b[38;5;28mself\u001b[39m\u001b[38;5;241m.\u001b[39mconfig_info  \u001b[38;5;241m=\u001b[39m \u001b[43mread_yaml_file\u001b[49m\u001b[43m(\u001b[49m\u001b[43mfile_path\u001b[49m\u001b[38;5;241;43m=\u001b[39;49m\u001b[43mconfig_file_path\u001b[49m\u001b[43m)\u001b[49m\n\u001b[0;32m     24\u001b[0m     \u001b[38;5;28mself\u001b[39m\u001b[38;5;241m.\u001b[39mtraining_pipeline_config \u001b[38;5;241m=\u001b[39m \u001b[38;5;28mself\u001b[39m\u001b[38;5;241m.\u001b[39mget_training_pipeline_config()\n",
      "File \u001b[1;32md:\\ml_projects\\mlops_california_house_price_prediction\\housing\\util\\util.py:60\u001b[0m, in \u001b[0;36mread_yaml_file\u001b[1;34m(file_path)\u001b[0m\n\u001b[0;32m     59\u001b[0m \u001b[38;5;28;01mexcept\u001b[39;00m \u001b[38;5;167;01mException\u001b[39;00m \u001b[38;5;28;01mas\u001b[39;00m e:\n\u001b[1;32m---> 60\u001b[0m     \u001b[38;5;28;01mraise\u001b[39;00m HousingException(e,sys) \u001b[38;5;28;01mfrom\u001b[39;00m\u001b[38;5;250m \u001b[39m\u001b[38;5;21;01me\u001b[39;00m\n",
      "\u001b[1;31mHousingException\u001b[0m: \n        Error occured in script: [d:\\ml_projects\\mlops_california_house_price_prediction\\housing\\util\\util.py] \n        at line number: [60] \n        error message: [[Errno 2] No such file or directory: 'd:\\\\ML_Projects\\\\MLOps_California_House_Price_Prediction\\\\notebook\\\\config\\\\config.yaml'] \n        \n        ",
      "\nThe above exception was the direct cause of the following exception:\n",
      "\u001b[1;31mHousingException\u001b[0m                          Traceback (most recent call last)",
      "Cell \u001b[1;32mIn[22], line 1\u001b[0m\n\u001b[1;32m----> 1\u001b[0m config \u001b[38;5;241m=\u001b[39m \u001b[43mConfiguration\u001b[49m\u001b[43m(\u001b[49m\u001b[43m)\u001b[49m\n",
      "File \u001b[1;32md:\\ml_projects\\mlops_california_house_price_prediction\\housing\\config\\configuration.py:27\u001b[0m, in \u001b[0;36mConfiguration.__init__\u001b[1;34m(self, config_file_path, current_time_stamp)\u001b[0m\n\u001b[0;32m     25\u001b[0m     \u001b[38;5;28mself\u001b[39m\u001b[38;5;241m.\u001b[39mtime_stamp \u001b[38;5;241m=\u001b[39m current_time_stamp\n\u001b[0;32m     26\u001b[0m \u001b[38;5;28;01mexcept\u001b[39;00m \u001b[38;5;167;01mException\u001b[39;00m \u001b[38;5;28;01mas\u001b[39;00m e:\n\u001b[1;32m---> 27\u001b[0m     \u001b[38;5;28;01mraise\u001b[39;00m HousingException(e,sys) \u001b[38;5;28;01mfrom\u001b[39;00m\u001b[38;5;250m \u001b[39m\u001b[38;5;21;01me\u001b[39;00m\n",
      "\u001b[1;31mHousingException\u001b[0m: \n        Error occured in script: [d:\\ml_projects\\mlops_california_house_price_prediction\\housing\\config\\configuration.py] \n        at line number: [27] \n        error message: [\n        Error occured in script: [d:\\ml_projects\\mlops_california_house_price_prediction\\housing\\util\\util.py] \n        at line number: [60] \n        error message: [[Errno 2] No such file or directory: 'd:\\\\ML_Projects\\\\MLOps_California_House_Price_Prediction\\\\notebook\\\\config\\\\config.yaml'] \n        \n        ] \n        \n        "
     ]
    }
   ],
   "source": [
    "config = Configuration()"
   ]
  },
  {
   "cell_type": "code",
   "execution_count": 1,
   "id": "b1f2c4c8",
   "metadata": {},
   "outputs": [],
   "source": [
    "url = 'https://raw.githubusercontent.com/ageron/handson-ml/master/datasets/housing/housing.tgz'"
   ]
  },
  {
   "cell_type": "code",
   "execution_count": 2,
   "id": "2de7197d",
   "metadata": {},
   "outputs": [],
   "source": [
    "import os"
   ]
  },
  {
   "cell_type": "code",
   "execution_count": 3,
   "id": "f6756890",
   "metadata": {},
   "outputs": [
    {
     "data": {
      "text/plain": [
       "'housing.tgz'"
      ]
     },
     "execution_count": 3,
     "metadata": {},
     "output_type": "execute_result"
    }
   ],
   "source": [
    "os.path.basename(url)"
   ]
  },
  {
   "cell_type": "code",
   "execution_count": 6,
   "id": "f7a48231",
   "metadata": {},
   "outputs": [
    {
     "data": {
      "text/plain": [
       "'d:\\\\ML_Projects\\\\MLOps_California_House_Price_Prediction\\\\notebook'"
      ]
     },
     "execution_count": 6,
     "metadata": {},
     "output_type": "execute_result"
    }
   ],
   "source": [
    "pwd"
   ]
  },
  {
   "cell_type": "code",
   "execution_count": 7,
   "id": "0b2a886c",
   "metadata": {},
   "outputs": [],
   "source": [
    "tgz_download_dir='d:\\\\ML_Projects\\\\MLOps_California_House_Price_Prediction\\\\housing2\\\\artifact\\\\data_ingestion\\\\2025-05-07-20-20-09\\\\tgz_data'"
   ]
  },
  {
   "cell_type": "code",
   "execution_count": 8,
   "id": "adb05448",
   "metadata": {},
   "outputs": [],
   "source": [
    "os.makedirs(tgz_download_dir,exist_ok=True)"
   ]
  },
  {
   "cell_type": "code",
   "execution_count": 9,
   "id": "2054fad2",
   "metadata": {},
   "outputs": [],
   "source": [
    "file_path = \"D:\\ML_Projects\\MLOps_California_House_Price_Prediction\\config\""
   ]
  },
  {
   "cell_type": "code",
   "execution_count": null,
   "id": "85022219",
   "metadata": {},
   "outputs": [
    {
     "data": {
      "text/plain": [
       "'config.yaml'"
      ]
     },
     "execution_count": 11,
     "metadata": {},
     "output_type": "execute_result"
    }
   ],
   "source": [
    "os.listdir(file_path)[0] # inside config/confi.yaml"
   ]
  },
  {
   "cell_type": "code",
   "execution_count": null,
   "id": "c845d746",
   "metadata": {},
   "outputs": [
    {
     "data": {
      "text/plain": [
       "'config'"
      ]
     },
     "execution_count": 12,
     "metadata": {},
     "output_type": "execute_result"
    }
   ],
   "source": [
    "os.path.basename(file_path) # but here basename of location folder that is config"
   ]
  },
  {
   "cell_type": "code",
   "execution_count": null,
   "id": "916b17f0",
   "metadata": {},
   "outputs": [],
   "source": []
  }
 ],
 "metadata": {
  "kernelspec": {
   "display_name": "Python 3",
   "language": "python",
   "name": "python3"
  },
  "language_info": {
   "codemirror_mode": {
    "name": "ipython",
    "version": 3
   },
   "file_extension": ".py",
   "mimetype": "text/x-python",
   "name": "python",
   "nbconvert_exporter": "python",
   "pygments_lexer": "ipython3",
   "version": "3.9.0"
  }
 },
 "nbformat": 4,
 "nbformat_minor": 5
}
