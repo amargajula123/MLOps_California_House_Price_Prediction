{
 "cells": [
  {
   "cell_type": "code",
   "execution_count": 1,
   "id": "55240c0b",
   "metadata": {},
   "outputs": [
    {
     "data": {
      "text/plain": [
       "'config\\\\config.yaml'"
      ]
     },
     "execution_count": 1,
     "metadata": {},
     "output_type": "execute_result"
    }
   ],
   "source": [
    "# airfoil-sound-pressure-rgsr\n",
    "# ml-regression-app-mlops1\n",
    "#\n",
    "\n",
    "import os,sys\n",
    "import yaml\n",
    "from housing.constant import *\n",
    "from housing.exception import HousingException\n",
    "from housing.util.util import *\n",
    "from housing.config.configuration import Configuration\n",
    "\n",
    "config_file_path = os.path.join(\"config\",\"config.yaml\")\n",
    "config_file_path"
   ]
  },
  {
   "cell_type": "code",
   "execution_count": 2,
   "id": "13b2d1a1",
   "metadata": {},
   "outputs": [],
   "source": [
    "os.chdir(\"d:\\\\ML_Projects\\\\MLOps_California_House_Price_Prediction\")"
   ]
  },
  {
   "cell_type": "code",
   "execution_count": 3,
   "id": "d641350f",
   "metadata": {},
   "outputs": [
    {
     "data": {
      "text/plain": [
       "'d:\\\\ML_Projects\\\\MLOps_California_House_Price_Prediction'"
      ]
     },
     "execution_count": 3,
     "metadata": {},
     "output_type": "execute_result"
    }
   ],
   "source": [
    "pwd"
   ]
  },
  {
   "cell_type": "code",
   "execution_count": 4,
   "id": "f750a3f1",
   "metadata": {},
   "outputs": [
    {
     "data": {
      "text/plain": [
       "{'training_pipeline_config': {'pipeline_name': 'housing',\n",
       "  'artifact_dir': 'artifact'},\n",
       " 'data_ingestion_config': {'dataset_download_url': 'https://raw.githubusercontent.com/ageron/handson-ml/master/datasets/housing/housing.tgz',\n",
       "  'raw_data_dir': 'raw_data',\n",
       "  'tgz_download_dir': 'tgz_data',\n",
       "  'ingested_dir': 'ingested_data',\n",
       "  'ingested_train_dir': 'train',\n",
       "  'ingested_test_dir': 'test'},\n",
       " 'data_validation_config': {'schema_dir': 'config',\n",
       "  'schema_file_name': 'schema.yaml',\n",
       "  'report_file_name': 'report.json',\n",
       "  'report_page_file_name': 'report.html'},\n",
       " 'data_transformation_config': {'add_bedroom_per_room': True,\n",
       "  'transformed_dir': 'transformed_data',\n",
       "  'transformed_train_dir': 'train',\n",
       "  'transformed_test_dir': 'test',\n",
       "  'preprocessing_dir': 'preprocessed',\n",
       "  'preprocessed_object_file_name': 'preprocessed.pkl'},\n",
       " 'model_trainer_config': {'trained_model_dir': 'trained_model',\n",
       "  'model_file_name': 'model.pkl',\n",
       "  'base_accuracy': 0.6,\n",
       "  'train_test_acc_threshold': 0.05,\n",
       "  'model_config_dir': 'config',\n",
       "  'model_config_file_name': 'model.yaml'},\n",
       " 'model_evaluation_config': {'model_evaluation_file_name': 'model_evaluation.yaml'},\n",
       " 'model_pusher_config': {'model_export_dir': 'saved_models'}}"
      ]
     },
     "execution_count": 4,
     "metadata": {},
     "output_type": "execute_result"
    }
   ],
   "source": [
    "read_yaml_file(file_path=config_file_path)"
   ]
  },
  {
   "cell_type": "code",
   "execution_count": 5,
   "id": "52ce9cbb",
   "metadata": {},
   "outputs": [],
   "source": [
    "config = Configuration(config_file_path=\"d:\\\\ML_Projects\\\\MLOps_California_House_Price_Prediction\\\\config\\\\config.yaml\")"
   ]
  },
  {
   "cell_type": "code",
   "execution_count": 6,
   "id": "9abc3b19",
   "metadata": {},
   "outputs": [
    {
     "data": {
      "text/plain": [
       "ModelTrainerConfig(trained_model_file_path='d:\\\\ML_Projects\\\\MLOps_California_House_Price_Prediction\\\\notebook\\\\housing\\\\artifact\\\\model_trainer\\\\2025-05-19-15-54-18\\\\trained_model\\\\model.pkl', base_accuracy=0.6, model_config_file_path='config\\\\model.yaml', train_test_acc_threshold=0.05)"
      ]
     },
     "execution_count": 6,
     "metadata": {},
     "output_type": "execute_result"
    }
   ],
   "source": [
    "config.get_model_trainer_config()"
   ]
  },
  {
   "cell_type": "code",
   "execution_count": null,
   "id": "929891fc",
   "metadata": {},
   "outputs": [
    {
     "data": {
      "text/plain": [
       "ModelEvaluationConfig(model_evaluation_file_path='d:\\\\ML_Projects\\\\MLOps_California_House_Price_Prediction\\\\notebook\\\\housing\\\\artifact\\\\model_evaluation\\\\model_evaluation.yaml', time_stamp='2025-05-17-17-24-21')"
      ]
     },
     "execution_count": 7,
     "metadata": {},
     "output_type": "execute_result"
    }
   ],
   "source": [
    "config.get_model_evaluation_config()"
   ]
  },
  {
   "cell_type": "code",
   "execution_count": 6,
   "id": "99907c52",
   "metadata": {},
   "outputs": [
    {
     "data": {
      "text/plain": [
       "ModelEvaluationConfig(model_evaluation_file_path='d:\\\\ML_Projects\\\\MLOps_California_House_Price_Prediction\\\\notebook\\\\housing\\\\artifact\\\\model_evaluation\\\\model_evaluation.yaml', time_stamp='2025-05-18-12-59-26')"
      ]
     },
     "execution_count": 6,
     "metadata": {},
     "output_type": "execute_result"
    }
   ],
   "source": [
    "config.get_model_evaluation_config()"
   ]
  },
  {
   "cell_type": "code",
   "execution_count": 6,
   "id": "e56ecd75",
   "metadata": {},
   "outputs": [
    {
     "data": {
      "text/plain": [
       "ModelPusherConfig(export_dir_path='d:\\\\ML_Projects\\\\MLOps_California_House_Price_Prediction\\\\notebook\\\\saved_models\\\\20250518160559')"
      ]
     },
     "execution_count": 6,
     "metadata": {},
     "output_type": "execute_result"
    }
   ],
   "source": [
    "config.get_model_pusher_config()"
   ]
  },
  {
   "cell_type": "code",
   "execution_count": null,
   "id": "f39165ea",
   "metadata": {},
   "outputs": [],
   "source": []
  },
  {
   "cell_type": "code",
   "execution_count": 9,
   "id": "a52c572b",
   "metadata": {},
   "outputs": [
    {
     "data": {
      "text/plain": [
       "'d:\\\\ML_Projects\\\\MLOps_California_House_Price_Prediction'"
      ]
     },
     "execution_count": 9,
     "metadata": {},
     "output_type": "execute_result"
    }
   ],
   "source": [
    "pwd"
   ]
  },
  {
   "cell_type": "code",
   "execution_count": 26,
   "id": "9b024e37",
   "metadata": {},
   "outputs": [
    {
     "data": {
      "text/plain": [
       "{'amar': 1, 'gajula': 2}"
      ]
     },
     "execution_count": 26,
     "metadata": {},
     "output_type": "execute_result"
    }
   ],
   "source": [
    "model_eval_content = {\"amar\":1,\"gajula\":2}\n",
    "model_eval_content = dict() if model_eval_content is None else model_eval_content\n",
    "model_eval_content"
   ]
  },
  {
   "cell_type": "code",
   "execution_count": null,
   "id": "623c0f47",
   "metadata": {},
   "outputs": [
    {
     "data": {
      "text/plain": [
       "{}"
      ]
     },
     "execution_count": 25,
     "metadata": {},
     "output_type": "execute_result"
    }
   ],
   "source": [
    "model_eval_content =  None\n",
    "model_eval_content = dict() if model_eval_content is None else model_eval_content\n",
    "model_eval_content"
   ]
  },
  {
   "cell_type": "code",
   "execution_count": 27,
   "id": "e796a667",
   "metadata": {},
   "outputs": [
    {
     "data": {
      "text/plain": [
       "{'amar': 1, 'gajula': 2}"
      ]
     },
     "execution_count": 27,
     "metadata": {},
     "output_type": "execute_result"
    }
   ],
   "source": [
    "model_eval_content"
   ]
  },
  {
   "cell_type": "code",
   "execution_count": 6,
   "id": "dca37010",
   "metadata": {},
   "outputs": [
    {
     "name": "stdout",
     "output_type": "stream",
     "text": [
      "ModelPusherConfig(export_dir_path='d:\\\\ML_Projects\\\\MLOps_California_House_Price_Prediction\\\\notebook\\\\saved_models\\\\20250519094132')\n"
     ]
    }
   ],
   "source": [
    "model_pusher_config = config.get_model_pusher_config()\n",
    "print(model_pusher_config)"
   ]
  },
  {
   "cell_type": "code",
   "execution_count": 2,
   "id": "04a40d14",
   "metadata": {},
   "outputs": [],
   "source": [
    "import shutil"
   ]
  },
  {
   "cell_type": "code",
   "execution_count": 7,
   "id": "b6a65e2a",
   "metadata": {},
   "outputs": [
    {
     "data": {
      "text/plain": [
       "'D:\\\\ML_Projects\\\\MLOps_California_House_Price_Prediction\\\\notebook\\\\shutill2.txt'"
      ]
     },
     "execution_count": 7,
     "metadata": {},
     "output_type": "execute_result"
    }
   ],
   "source": [
    "src_path =r\"D:\\ML_Projects\\MLOps_California_House_Price_Prediction\\notebook\\shutill.txt\"\n",
    "dest_path =r\"D:\\ML_Projects\\MLOps_California_House_Price_Prediction\\notebook\\shutill2.txt\"\n",
    "shutil.copy(src=src_path,dst=dest_path)"
   ]
  },
  {
   "cell_type": "code",
   "execution_count": null,
   "id": "f7754e55",
   "metadata": {},
   "outputs": [],
   "source": []
  },
  {
   "cell_type": "code",
   "execution_count": null,
   "id": "473465c2",
   "metadata": {},
   "outputs": [],
   "source": []
  }
 ],
 "metadata": {
  "kernelspec": {
   "display_name": "Python 3",
   "language": "python",
   "name": "python3"
  },
  "language_info": {
   "codemirror_mode": {
    "name": "ipython",
    "version": 3
   },
   "file_extension": ".py",
   "mimetype": "text/x-python",
   "name": "python",
   "nbconvert_exporter": "python",
   "pygments_lexer": "ipython3",
   "version": "3.9.0"
  }
 },
 "nbformat": 4,
 "nbformat_minor": 5
}
