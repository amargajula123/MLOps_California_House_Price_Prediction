{
 "cells": [
  {
   "cell_type": "code",
   "execution_count": 2,
   "id": "c094cfe8",
   "metadata": {},
   "outputs": [],
   "source": [
    "# time at 1:14\n",
    "from threading import Thread\n",
    "import time"
   ]
  },
  {
   "cell_type": "code",
   "execution_count": 9,
   "id": "f62db2fd",
   "metadata": {},
   "outputs": [],
   "source": [
    "class DemoThread(Thread):\n",
    "    def __init__(self,**kwargs):\n",
    "        super().__init__(daemon=False,name=\"demo_thread\")\n",
    "\n",
    "    def print_msg(self):\n",
    "        time.sleep(1)\n",
    "        print(\"I was called by thread\")\n",
    "    def print_msg_2(self):\n",
    "        a=1\n",
    "        b=2\n",
    "        print(f\"a+b = {a+b} this called by Thread\" )\n",
    "\n",
    "    def run(self):\n",
    "        self.print_msg()\n",
    "        self.print_msg_2()"
   ]
  },
  {
   "cell_type": "code",
   "execution_count": 10,
   "id": "424891f3",
   "metadata": {},
   "outputs": [
    {
     "name": "stdout",
     "output_type": "stream",
     "text": [
      "Creating object of DempoThread\n",
      "Starting demo Thread\n",
      "Demo Thread Started\n",
      "I was called by thread\n",
      "a+b = 3 this called by Thread\n",
      "Demo Thread has Completed\n"
     ]
    }
   ],
   "source": [
    "print(f\"Creating object of DempoThread\")\n",
    "d = DemoThread()\n",
    "print(\"Starting demo Thread\")\n",
    "d.start()\n",
    "print(\"Demo Thread Started\")\n",
    "d.join()\n",
    "print(\"Demo Thread has Completed\")"
   ]
  },
  {
   "cell_type": "code",
   "execution_count": 11,
   "id": "0d5f999d",
   "metadata": {},
   "outputs": [
    {
     "name": "stdout",
     "output_type": "stream",
     "text": [
      "Creating object of demo thread\n",
      "Starting demo thread\n",
      "Demo thread started\n",
      "I was called by thread\n",
      "Thread has completed\n"
     ]
    }
   ],
   "source": [
    "# similarly\n",
    "\n",
    "class Pipeline(Thread):\n",
    "    def __init__(self,*args,**kwargs):\n",
    "        super().__init__(daemon=False,name=\"demo_thread\")\n",
    "    \n",
    "    def run_pipeline(self):\n",
    "        time.sleep(1)\n",
    "        print(\"I was called by thread\")\n",
    "    \n",
    "    def run(self):\n",
    "        self.run_pipeline()\n",
    "\n",
    "print(f\"Creating object of demo thread\")  # if we use this Thread class here what happens is our \n",
    "d = Pipeline()                            # traininng will run independently.\n",
    "print(f\"Starting demo thread\")\n",
    "d.start() \n",
    "print(f\"Demo thread started\")\n",
    "d.join()\n",
    "print(\"Thread has completed\")"
   ]
  },
  {
   "cell_type": "code",
   "execution_count": null,
   "id": "b461bf36",
   "metadata": {},
   "outputs": [
    {
     "name": "stdout",
     "output_type": "stream",
     "text": [
      "I was called by thread\n"
     ]
    }
   ],
   "source": [
    "a = Pipeline()\n",
    "a.start()\n",
    "a.join() # it actually wait for other thread to complete by cirtaine time"
   ]
  },
  {
   "cell_type": "code",
   "execution_count": null,
   "id": "ac3d804d",
   "metadata": {},
   "outputs": [
    {
     "name": "stdout",
     "output_type": "stream",
     "text": [
      "I am waiting for run_pipeline() to complete its work\n",
      "I was called by thread\n"
     ]
    }
   ],
   "source": [
    "a = Pipeline()\n",
    "a.start()\n",
    "print(\"I am waiting for run_pipeline() to complete its work\")\n",
    "a.join() # it actually wait for other thread to complete by cirtaine time after \n",
    "         # completion of that it will merge, and exicute from join function parallel"
   ]
  },
  {
   "cell_type": "code",
   "execution_count": null,
   "id": "49c5e3a5",
   "metadata": {},
   "outputs": [
    {
     "name": "stdout",
     "output_type": "stream",
     "text": [
      "I was called by thread\n",
      "I am waiting for run_pipeline() to complete its work\n"
     ]
    }
   ],
   "source": [
    "# without Thread\n",
    "a.run_pipeline()\n",
    "print(\"I am waiting for run_pipeline() to complete its work\")"
   ]
  },
  {
   "cell_type": "code",
   "execution_count": null,
   "id": "de6a12d1",
   "metadata": {},
   "outputs": [],
   "source": [
    "# why we want this Thread class concept \n",
    "# Ans :=\n",
    "#    becoz i want to achive paralism.\n",
    "#    bcoz i want to execute my code simaltenniously like execute 2 block of code ఒకేసారి (Oke saari)\n",
    "#    simaltenniously = ఒకేసారి (Oke saari) or ఏకకాలంలో (Eka kālamlō)\n",
    "#    when we run_pipeline to give \"response\" to the user imideatly we use Thread\n",
    "#    if we use Thread then\n",
    "\n",
    "    # a.start() when we start the internal functionalities will be run and before that only will get \"response\"\n",
    "    # print(\"I am waiting for run_pipeline() to complete its work\")\n",
    "    # a.join() # it actually wait for other thread to complete by cirtaine time\n"
   ]
  },
  {
   "cell_type": "code",
   "execution_count": 15,
   "id": "0ac6285a",
   "metadata": {},
   "outputs": [
    {
     "name": "stdout",
     "output_type": "stream",
     "text": [
      "Creating object of demo thread\n",
      "Starting demo thread\n",
      "Demo thread started\n",
      "I was called by thread\n",
      "Thread has completed\n"
     ]
    }
   ],
   "source": [
    "class Pipeline(Thread):\n",
    "    def __init__(self,*args,**kwargs):\n",
    "        super().__init__(daemon=False,name=\"demo_thread\")\n",
    "    \n",
    "    def run_pipeline(self):\n",
    "        time.sleep(10)\n",
    "        print(\"I was called by thread\")\n",
    "    \n",
    "    def run(self):\n",
    "        self.run_pipeline()\n",
    "\n",
    "print(f\"Creating object of demo thread\")  # if we use this Thread class here what happens is our \n",
    "d = Pipeline()                            # traininng will run independently.\n",
    "print(f\"Starting demo thread\")\n",
    "d.start() \n",
    "print(f\"Demo thread started\")\n",
    "d.join()\n",
    "print(\"Thread has completed\")"
   ]
  },
  {
   "cell_type": "code",
   "execution_count": 17,
   "id": "99a6ef03",
   "metadata": {},
   "outputs": [
    {
     "name": "stdout",
     "output_type": "stream",
     "text": [
      "I was called by thread\n",
      "I am waiting for run_pipeline() to complete its work\n"
     ]
    }
   ],
   "source": [
    "# without Thread\n",
    "d.run_pipeline()\n",
    "print(\"I am waiting for run_pipeline() to complete its work\")"
   ]
  },
  {
   "cell_type": "code",
   "execution_count": null,
   "id": "e0013a14",
   "metadata": {},
   "outputs": [],
   "source": []
  }
 ],
 "metadata": {
  "kernelspec": {
   "display_name": "Python 3",
   "language": "python",
   "name": "python3"
  },
  "language_info": {
   "codemirror_mode": {
    "name": "ipython",
    "version": 3
   },
   "file_extension": ".py",
   "mimetype": "text/x-python",
   "name": "python",
   "nbconvert_exporter": "python",
   "pygments_lexer": "ipython3",
   "version": "3.9.0"
  }
 },
 "nbformat": 4,
 "nbformat_minor": 5
}
