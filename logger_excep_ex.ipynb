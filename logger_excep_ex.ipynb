{
 "cells": [
  {
   "cell_type": "code",
   "execution_count": 1,
   "id": "55caf654",
   "metadata": {},
   "outputs": [],
   "source": [
    "REQUIREMENT_FILE_NAME = \"requirements.txt\"\n",
    "def get_requirements_list():\n",
    "    \"\"\"\n",
    "    Description: Returns a list of dependencies from requirements.txt, excluding '-e .'\"\"\"\n",
    "    with open(REQUIREMENT_FILE_NAME) as requirement_file:\n",
    "        requirements = requirement_file.read().splitlines()  # Read lines properly\n",
    "        \n",
    "    if \"-e .\" in requirements:\n",
    "        requirements.remove(\"-e .\")  # Remove \"-e .\" safely\n",
    "    return requirements"
   ]
  },
  {
   "cell_type": "code",
   "execution_count": 6,
   "id": "a628f1d5",
   "metadata": {},
   "outputs": [
    {
     "data": {
      "text/plain": [
       "'d:\\\\ML_Projects\\\\MLOps_California_House_Price_Prediction'"
      ]
     },
     "execution_count": 6,
     "metadata": {},
     "output_type": "execute_result"
    }
   ],
   "source": [
    "pwd"
   ]
  },
  {
   "cell_type": "code",
   "execution_count": 2,
   "id": "0a1d1dfa",
   "metadata": {},
   "outputs": [
    {
     "data": {
      "text/plain": [
       "['Flask', 'gunicorn', 'numpy', 'scikit-learn  ', 'pandas']"
      ]
     },
     "execution_count": 2,
     "metadata": {},
     "output_type": "execute_result"
    }
   ],
   "source": [
    "get_requirements_list()"
   ]
  },
  {
   "cell_type": "code",
   "execution_count": 3,
   "id": "dd8ba572",
   "metadata": {},
   "outputs": [],
   "source": [
    "from setuptools import find_packages"
   ]
  },
  {
   "cell_type": "code",
   "execution_count": 4,
   "id": "dd99bdaa",
   "metadata": {},
   "outputs": [
    {
     "data": {
      "text/plain": [
       "['housing']"
      ]
     },
     "execution_count": 4,
     "metadata": {},
     "output_type": "execute_result"
    }
   ],
   "source": [
    "find_packages() #returns package "
   ]
  },
  {
   "cell_type": "code",
   "execution_count": 6,
   "id": "c87561e0",
   "metadata": {},
   "outputs": [],
   "source": [
    "import os\n",
    "LOG_DIR=\"housing_logs\"\n",
    "\n",
    "os.makedirs(LOG_DIR,exist_ok=True)"
   ]
  },
  {
   "cell_type": "code",
   "execution_count": 8,
   "id": "4aaf3df7",
   "metadata": {},
   "outputs": [
    {
     "data": {
      "text/plain": [
       "'2025-05-05_19-04-27'"
      ]
     },
     "execution_count": 8,
     "metadata": {},
     "output_type": "execute_result"
    }
   ],
   "source": [
    "from datetime import datetime\n",
    "\n",
    "\n",
    "CURRENT_TIME_STAMP= f\"{datetime.now().strftime('%Y-%m-%d_%H-%M-%S')}\"\n",
    "CURRENT_TIME_STAMP"
   ]
  },
  {
   "cell_type": "code",
   "execution_count": 10,
   "id": "ab209267",
   "metadata": {},
   "outputs": [
    {
     "data": {
      "text/plain": [
       "'log_2025-05-05_19-04-27.log'"
      ]
     },
     "execution_count": 10,
     "metadata": {},
     "output_type": "execute_result"
    }
   ],
   "source": [
    "LOG_FILE_NAME=f\"log_{CURRENT_TIME_STAMP}.log\"\n",
    "LOG_FILE_NAME"
   ]
  },
  {
   "cell_type": "code",
   "execution_count": 12,
   "id": "b1fd007e",
   "metadata": {},
   "outputs": [
    {
     "data": {
      "text/plain": [
       "'housing_logs\\\\log_2025-05-05_19-04-27.log'"
      ]
     },
     "execution_count": 12,
     "metadata": {},
     "output_type": "execute_result"
    }
   ],
   "source": [
    "LOG_FILE_PATH= os.path.join(LOG_DIR,LOG_FILE_NAME)\n",
    "LOG_FILE_PATH"
   ]
  },
  {
   "cell_type": "code",
   "execution_count": 1,
   "id": "170d6bc8",
   "metadata": {},
   "outputs": [],
   "source": [
    "def index():\n",
    "    try:\n",
    "        raise Exception(\"we are testing our custome Exception\")\n",
    "    except Exception as e:\n",
    "        print(e)"
   ]
  },
  {
   "cell_type": "code",
   "execution_count": 2,
   "id": "26d9053e",
   "metadata": {},
   "outputs": [
    {
     "name": "stdout",
     "output_type": "stream",
     "text": [
      "we are testing our custome Exception\n"
     ]
    }
   ],
   "source": [
    "index()"
   ]
  },
  {
   "cell_type": "code",
   "execution_count": 41,
   "id": "313d8241",
   "metadata": {},
   "outputs": [],
   "source": [
    "from housing.exception import HousingException\n",
    "import sys\n",
    "def index():\n",
    "    try:\n",
    "        raise Exception(\"We are testing our Custome Exception\")\n",
    "    except Exception as e:\n",
    "        housing=HousingException(e,sys)\n",
    "        print(\"housing.error_message =\",housing.error_message)"
   ]
  },
  {
   "cell_type": "code",
   "execution_count": 58,
   "id": "d4a34724",
   "metadata": {},
   "outputs": [
    {
     "name": "stdout",
     "output_type": "stream",
     "text": [
      "housing.error_message = \n",
      "        Error occured in script: [C:\\Users\\Amar Gajula\\AppData\\Local\\Temp\\ipykernel_1260\\922678811.py] \n",
      "        at line number: [7] \n",
      "        error message: [We are testing our Custome Exception] \n",
      "        \n",
      "        \n"
     ]
    }
   ],
   "source": [
    "index()"
   ]
  },
  {
   "cell_type": "code",
   "execution_count": 62,
   "id": "2c98c213",
   "metadata": {},
   "outputs": [],
   "source": [
    "from housing.exception import HousingException\n",
    "\n",
    "try:\n",
    "    raise Exception(\"testing Exception\")\n",
    "except Exception as e:\n",
    "    obj = HousingException(e,sys)"
   ]
  },
  {
   "cell_type": "code",
   "execution_count": 64,
   "id": "4add6d48",
   "metadata": {},
   "outputs": [
    {
     "name": "stdout",
     "output_type": "stream",
     "text": [
      "\n",
      "        Error occured in script: [C:\\Users\\Amar Gajula\\AppData\\Local\\Temp\\ipykernel_1260\\2007613162.py] \n",
      "        at line number: [6] \n",
      "        error message: [testing Exception] \n",
      "        \n",
      "        \n"
     ]
    }
   ],
   "source": [
    "print(obj)"
   ]
  },
  {
   "cell_type": "code",
   "execution_count": 65,
   "id": "90fa962a",
   "metadata": {},
   "outputs": [
    {
     "ename": "AttributeError",
     "evalue": "'str' object has no attribute 'str'",
     "output_type": "error",
     "traceback": [
      "\u001b[1;31m---------------------------------------------------------------------------\u001b[0m",
      "\u001b[1;31mAttributeError\u001b[0m                            Traceback (most recent call last)",
      "File \u001b[1;32md:\\ML_Projects\\MLOps_California_House_Price_Prediction\\venv\\lib\\site-packages\\IPython\\core\\formatters.py:708\u001b[0m, in \u001b[0;36mPlainTextFormatter.__call__\u001b[1;34m(self, obj)\u001b[0m\n\u001b[0;32m    701\u001b[0m stream \u001b[38;5;241m=\u001b[39m StringIO()\n\u001b[0;32m    702\u001b[0m printer \u001b[38;5;241m=\u001b[39m pretty\u001b[38;5;241m.\u001b[39mRepresentationPrinter(stream, \u001b[38;5;28mself\u001b[39m\u001b[38;5;241m.\u001b[39mverbose,\n\u001b[0;32m    703\u001b[0m     \u001b[38;5;28mself\u001b[39m\u001b[38;5;241m.\u001b[39mmax_width, \u001b[38;5;28mself\u001b[39m\u001b[38;5;241m.\u001b[39mnewline,\n\u001b[0;32m    704\u001b[0m     max_seq_length\u001b[38;5;241m=\u001b[39m\u001b[38;5;28mself\u001b[39m\u001b[38;5;241m.\u001b[39mmax_seq_length,\n\u001b[0;32m    705\u001b[0m     singleton_pprinters\u001b[38;5;241m=\u001b[39m\u001b[38;5;28mself\u001b[39m\u001b[38;5;241m.\u001b[39msingleton_printers,\n\u001b[0;32m    706\u001b[0m     type_pprinters\u001b[38;5;241m=\u001b[39m\u001b[38;5;28mself\u001b[39m\u001b[38;5;241m.\u001b[39mtype_printers,\n\u001b[0;32m    707\u001b[0m     deferred_pprinters\u001b[38;5;241m=\u001b[39m\u001b[38;5;28mself\u001b[39m\u001b[38;5;241m.\u001b[39mdeferred_printers)\n\u001b[1;32m--> 708\u001b[0m \u001b[43mprinter\u001b[49m\u001b[38;5;241;43m.\u001b[39;49m\u001b[43mpretty\u001b[49m\u001b[43m(\u001b[49m\u001b[43mobj\u001b[49m\u001b[43m)\u001b[49m\n\u001b[0;32m    709\u001b[0m printer\u001b[38;5;241m.\u001b[39mflush()\n\u001b[0;32m    710\u001b[0m \u001b[38;5;28;01mreturn\u001b[39;00m stream\u001b[38;5;241m.\u001b[39mgetvalue()\n",
      "File \u001b[1;32md:\\ML_Projects\\MLOps_California_House_Price_Prediction\\venv\\lib\\site-packages\\IPython\\lib\\pretty.py:410\u001b[0m, in \u001b[0;36mRepresentationPrinter.pretty\u001b[1;34m(self, obj)\u001b[0m\n\u001b[0;32m    407\u001b[0m                         \u001b[38;5;28;01mreturn\u001b[39;00m meth(obj, \u001b[38;5;28mself\u001b[39m, cycle)\n\u001b[0;32m    408\u001b[0m                 \u001b[38;5;28;01mif\u001b[39;00m \u001b[38;5;28mcls\u001b[39m \u001b[38;5;129;01mis\u001b[39;00m \u001b[38;5;129;01mnot\u001b[39;00m \u001b[38;5;28mobject\u001b[39m \\\n\u001b[0;32m    409\u001b[0m                         \u001b[38;5;129;01mand\u001b[39;00m \u001b[38;5;28mcallable\u001b[39m(\u001b[38;5;28mcls\u001b[39m\u001b[38;5;241m.\u001b[39m\u001b[38;5;18m__dict__\u001b[39m\u001b[38;5;241m.\u001b[39mget(\u001b[38;5;124m'\u001b[39m\u001b[38;5;124m__repr__\u001b[39m\u001b[38;5;124m'\u001b[39m)):\n\u001b[1;32m--> 410\u001b[0m                     \u001b[38;5;28;01mreturn\u001b[39;00m \u001b[43m_repr_pprint\u001b[49m\u001b[43m(\u001b[49m\u001b[43mobj\u001b[49m\u001b[43m,\u001b[49m\u001b[43m \u001b[49m\u001b[38;5;28;43mself\u001b[39;49m\u001b[43m,\u001b[49m\u001b[43m \u001b[49m\u001b[43mcycle\u001b[49m\u001b[43m)\u001b[49m\n\u001b[0;32m    412\u001b[0m     \u001b[38;5;28;01mreturn\u001b[39;00m _default_pprint(obj, \u001b[38;5;28mself\u001b[39m, cycle)\n\u001b[0;32m    413\u001b[0m \u001b[38;5;28;01mfinally\u001b[39;00m:\n",
      "File \u001b[1;32md:\\ML_Projects\\MLOps_California_House_Price_Prediction\\venv\\lib\\site-packages\\IPython\\lib\\pretty.py:778\u001b[0m, in \u001b[0;36m_repr_pprint\u001b[1;34m(obj, p, cycle)\u001b[0m\n\u001b[0;32m    776\u001b[0m \u001b[38;5;250m\u001b[39m\u001b[38;5;124;03m\"\"\"A pprint that just redirects to the normal repr function.\"\"\"\u001b[39;00m\n\u001b[0;32m    777\u001b[0m \u001b[38;5;66;03m# Find newlines and replace them with p.break_()\u001b[39;00m\n\u001b[1;32m--> 778\u001b[0m output \u001b[38;5;241m=\u001b[39m \u001b[38;5;28;43mrepr\u001b[39;49m\u001b[43m(\u001b[49m\u001b[43mobj\u001b[49m\u001b[43m)\u001b[49m\n\u001b[0;32m    779\u001b[0m lines \u001b[38;5;241m=\u001b[39m output\u001b[38;5;241m.\u001b[39msplitlines()\n\u001b[0;32m    780\u001b[0m \u001b[38;5;28;01mwith\u001b[39;00m p\u001b[38;5;241m.\u001b[39mgroup():\n",
      "File \u001b[1;32md:\\ML_Projects\\MLOps_California_House_Price_Prediction\\housing\\exception\\__init__.py:46\u001b[0m, in \u001b[0;36mHousingException.__repr__\u001b[1;34m(self)\u001b[0m\n\u001b[0;32m     45\u001b[0m \u001b[38;5;28;01mdef\u001b[39;00m\u001b[38;5;250m \u001b[39m\u001b[38;5;21m__repr__\u001b[39m(\u001b[38;5;28mself\u001b[39m) \u001b[38;5;241m-\u001b[39m\u001b[38;5;241m>\u001b[39m \u001b[38;5;28mstr\u001b[39m:\n\u001b[1;32m---> 46\u001b[0m     \u001b[38;5;28;01mreturn\u001b[39;00m \u001b[43mHousingException\u001b[49m\u001b[38;5;241;43m.\u001b[39;49m\u001b[38;5;18;43m__name__\u001b[39;49m\u001b[38;5;241;43m.\u001b[39;49m\u001b[43mstr\u001b[49m()\n",
      "\u001b[1;31mAttributeError\u001b[0m: 'str' object has no attribute 'str'"
     ]
    }
   ],
   "source": [
    "obj"
   ]
  },
  {
   "cell_type": "code",
   "execution_count": 44,
   "id": "599cb433",
   "metadata": {},
   "outputs": [],
   "source": [
    "class Demo:\n",
    "    def __str__(self):\n",
    "        return \"this is __str__ function\"\n",
    "    def __repr__(self):\n",
    "        return \"This is __repr__ function it a object representation\""
   ]
  },
  {
   "cell_type": "code",
   "execution_count": 45,
   "id": "bbc7cae3",
   "metadata": {},
   "outputs": [
    {
     "data": {
      "text/plain": [
       "This is __repr__ function it a object representation"
      ]
     },
     "execution_count": 45,
     "metadata": {},
     "output_type": "execute_result"
    }
   ],
   "source": [
    "Demo()"
   ]
  },
  {
   "cell_type": "code",
   "execution_count": 46,
   "id": "8f76ef72",
   "metadata": {},
   "outputs": [
    {
     "name": "stdout",
     "output_type": "stream",
     "text": [
      "this is __str__ function\n"
     ]
    }
   ],
   "source": [
    "print(Demo())"
   ]
  },
  {
   "cell_type": "code",
   "execution_count": 47,
   "id": "067fbd3f",
   "metadata": {},
   "outputs": [
    {
     "data": {
      "text/plain": [
       "This is __repr__ function it a object representation"
      ]
     },
     "execution_count": 47,
     "metadata": {},
     "output_type": "execute_result"
    }
   ],
   "source": [
    "dem = Demo()\n",
    "dem"
   ]
  },
  {
   "cell_type": "code",
   "execution_count": 48,
   "id": "c4b84ac3",
   "metadata": {},
   "outputs": [
    {
     "name": "stdout",
     "output_type": "stream",
     "text": [
      "this is __str__ function\n"
     ]
    }
   ],
   "source": [
    "print(dem)"
   ]
  },
  {
   "cell_type": "code",
   "execution_count": 49,
   "id": "834d7388",
   "metadata": {},
   "outputs": [],
   "source": [
    "from sklearn.linear_model import LinearRegression"
   ]
  },
  {
   "cell_type": "code",
   "execution_count": 50,
   "id": "cc3e8f23",
   "metadata": {},
   "outputs": [
    {
     "data": {
      "text/plain": [
       "sklearn.linear_model._base.LinearRegression"
      ]
     },
     "execution_count": 50,
     "metadata": {},
     "output_type": "execute_result"
    }
   ],
   "source": [
    "l=LinearRegression\n",
    "l"
   ]
  },
  {
   "cell_type": "code",
   "execution_count": 51,
   "id": "d0dd863e",
   "metadata": {},
   "outputs": [],
   "source": [
    "class Demo:\n",
    "    def __repr__(self):\n",
    "        return \"Demo()\""
   ]
  },
  {
   "cell_type": "code",
   "execution_count": 52,
   "id": "c45787b5",
   "metadata": {},
   "outputs": [
    {
     "data": {
      "text/plain": [
       "Demo()"
      ]
     },
     "execution_count": 52,
     "metadata": {},
     "output_type": "execute_result"
    }
   ],
   "source": [
    "obj= Demo()\n",
    "obj"
   ]
  },
  {
   "cell_type": "code",
   "execution_count": 53,
   "id": "03de9959",
   "metadata": {},
   "outputs": [],
   "source": [
    "class Demo:\n",
    "    def __init__(self,param):\n",
    "        self.param=param\n",
    "    def __repr__(self):\n",
    "        return f\"Demo(param='{self.param}')\""
   ]
  },
  {
   "cell_type": "code",
   "execution_count": 54,
   "id": "a557ba46",
   "metadata": {},
   "outputs": [
    {
     "data": {
      "text/plain": [
       "Demo(param='amar')"
      ]
     },
     "execution_count": 54,
     "metadata": {},
     "output_type": "execute_result"
    }
   ],
   "source": [
    "obj = Demo(\"amar\")\n",
    "obj"
   ]
  },
  {
   "cell_type": "code",
   "execution_count": 55,
   "id": "52584478",
   "metadata": {},
   "outputs": [
    {
     "data": {
      "text/plain": [
       "Demo(param='amar')"
      ]
     },
     "execution_count": 55,
     "metadata": {},
     "output_type": "execute_result"
    }
   ],
   "source": [
    "Demo(param='amar')"
   ]
  },
  {
   "cell_type": "code",
   "execution_count": 56,
   "id": "55c51c40",
   "metadata": {},
   "outputs": [
    {
     "data": {
      "text/plain": [
       "Demo(param='1')"
      ]
     },
     "execution_count": 56,
     "metadata": {},
     "output_type": "execute_result"
    }
   ],
   "source": [
    "Demo(param=1)"
   ]
  },
  {
   "cell_type": "code",
   "execution_count": 57,
   "id": "ca791fb2",
   "metadata": {},
   "outputs": [
    {
     "data": {
      "text/plain": [
       "Demo(param='1')"
      ]
     },
     "execution_count": 57,
     "metadata": {},
     "output_type": "execute_result"
    }
   ],
   "source": [
    "Demo(1)"
   ]
  },
  {
   "cell_type": "code",
   "execution_count": 1,
   "id": "d460c83a",
   "metadata": {},
   "outputs": [
    {
     "data": {
      "text/plain": [
       "'d:\\\\ML_Projects\\\\MLOps_California_House_Price_Prediction'"
      ]
     },
     "execution_count": 1,
     "metadata": {},
     "output_type": "execute_result"
    }
   ],
   "source": [
    "pwd"
   ]
  },
  {
   "cell_type": "code",
   "execution_count": null,
   "id": "aa039084",
   "metadata": {},
   "outputs": [],
   "source": []
  }
 ],
 "metadata": {
  "kernelspec": {
   "display_name": "Python 3",
   "language": "python",
   "name": "python3"
  },
  "language_info": {
   "codemirror_mode": {
    "name": "ipython",
    "version": 3
   },
   "file_extension": ".py",
   "mimetype": "text/x-python",
   "name": "python",
   "nbconvert_exporter": "python",
   "pygments_lexer": "ipython3",
   "version": "3.9.0"
  }
 },
 "nbformat": 4,
 "nbformat_minor": 5
}
