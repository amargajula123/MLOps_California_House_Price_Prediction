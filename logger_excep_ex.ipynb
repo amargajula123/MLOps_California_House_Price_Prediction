{
 "cells": [
  {
   "cell_type": "code",
   "execution_count": 1,
   "id": "55caf654",
   "metadata": {},
   "outputs": [],
   "source": [
    "REQUIREMENT_FILE_NAME = \"requirements.txt\"\n",
    "def get_requirements_list():\n",
    "    \"\"\"\n",
    "    Description: Returns a list of dependencies from requirements.txt, excluding '-e .'\"\"\"\n",
    "    with open(REQUIREMENT_FILE_NAME) as requirement_file:\n",
    "        requirements = requirement_file.read().splitlines()  # Read lines properly\n",
    "        \n",
    "    if \"-e .\" in requirements:\n",
    "        requirements.remove(\"-e .\")  # Remove \"-e .\" safely\n",
    "    return requirements"
   ]
  },
  {
   "cell_type": "code",
   "execution_count": 6,
   "id": "a628f1d5",
   "metadata": {},
   "outputs": [
    {
     "data": {
      "text/plain": [
       "'d:\\\\ML_Projects\\\\MLOps_California_House_Price_Prediction'"
      ]
     },
     "execution_count": 6,
     "metadata": {},
     "output_type": "execute_result"
    }
   ],
   "source": [
    "pwd"
   ]
  },
  {
   "cell_type": "code",
   "execution_count": 2,
   "id": "0a1d1dfa",
   "metadata": {},
   "outputs": [
    {
     "data": {
      "text/plain": [
       "['Flask', 'gunicorn', 'numpy', 'scikit-learn  ', 'pandas']"
      ]
     },
     "execution_count": 2,
     "metadata": {},
     "output_type": "execute_result"
    }
   ],
   "source": [
    "get_requirements_list()"
   ]
  },
  {
   "cell_type": "code",
   "execution_count": 3,
   "id": "dd8ba572",
   "metadata": {},
   "outputs": [],
   "source": [
    "from setuptools import find_packages"
   ]
  },
  {
   "cell_type": "code",
   "execution_count": 4,
   "id": "dd99bdaa",
   "metadata": {},
   "outputs": [
    {
     "data": {
      "text/plain": [
       "['housing']"
      ]
     },
     "execution_count": 4,
     "metadata": {},
     "output_type": "execute_result"
    }
   ],
   "source": [
    "find_packages() #returns package "
   ]
  },
  {
   "cell_type": "code",
   "execution_count": 6,
   "id": "c87561e0",
   "metadata": {},
   "outputs": [],
   "source": [
    "import os\n",
    "LOG_DIR=\"housing_logs\"\n",
    "\n",
    "os.makedirs(LOG_DIR,exist_ok=True)"
   ]
  },
  {
   "cell_type": "code",
   "execution_count": 8,
   "id": "4aaf3df7",
   "metadata": {},
   "outputs": [
    {
     "data": {
      "text/plain": [
       "'2025-05-05_19-04-27'"
      ]
     },
     "execution_count": 8,
     "metadata": {},
     "output_type": "execute_result"
    }
   ],
   "source": [
    "from datetime import datetime\n",
    "\n",
    "\n",
    "CURRENT_TIME_STAMP= f\"{datetime.now().strftime('%Y-%m-%d_%H-%M-%S')}\"\n",
    "CURRENT_TIME_STAMP"
   ]
  },
  {
   "cell_type": "code",
   "execution_count": 10,
   "id": "ab209267",
   "metadata": {},
   "outputs": [
    {
     "data": {
      "text/plain": [
       "'log_2025-05-05_19-04-27.log'"
      ]
     },
     "execution_count": 10,
     "metadata": {},
     "output_type": "execute_result"
    }
   ],
   "source": [
    "LOG_FILE_NAME=f\"log_{CURRENT_TIME_STAMP}.log\"\n",
    "LOG_FILE_NAME"
   ]
  },
  {
   "cell_type": "code",
   "execution_count": 12,
   "id": "b1fd007e",
   "metadata": {},
   "outputs": [
    {
     "data": {
      "text/plain": [
       "'housing_logs\\\\log_2025-05-05_19-04-27.log'"
      ]
     },
     "execution_count": 12,
     "metadata": {},
     "output_type": "execute_result"
    }
   ],
   "source": [
    "LOG_FILE_PATH= os.path.join(LOG_DIR,LOG_FILE_NAME)\n",
    "LOG_FILE_PATH"
   ]
  },
  {
   "cell_type": "code",
   "execution_count": 1,
   "id": "170d6bc8",
   "metadata": {},
   "outputs": [],
   "source": [
    "def index():\n",
    "    try:\n",
    "        raise Exception(\"we are testing our custome Exception\")\n",
    "    except Exception as e:\n",
    "        print(e)"
   ]
  },
  {
   "cell_type": "code",
   "execution_count": 2,
   "id": "26d9053e",
   "metadata": {},
   "outputs": [
    {
     "name": "stdout",
     "output_type": "stream",
     "text": [
      "we are testing our custome Exception\n"
     ]
    }
   ],
   "source": [
    "index()"
   ]
  },
  {
   "cell_type": "code",
   "execution_count": 41,
   "id": "313d8241",
   "metadata": {},
   "outputs": [],
   "source": [
    "from housing.exception import HousingException\n",
    "import sys\n",
    "def index():\n",
    "    try:\n",
    "        raise Exception(\"We are testing our Custome Exception\")\n",
    "    except Exception as e:\n",
    "        housing=HousingException(e,sys)\n",
    "        print(\"housing.error_message =\",housing.error_message)"
   ]
  },
  {
   "cell_type": "code",
   "execution_count": 58,
   "id": "d4a34724",
   "metadata": {},
   "outputs": [
    {
     "name": "stdout",
     "output_type": "stream",
     "text": [
      "housing.error_message = \n",
      "        Error occured in script: [C:\\Users\\Amar Gajula\\AppData\\Local\\Temp\\ipykernel_1260\\922678811.py] \n",
      "        at line number: [7] \n",
      "        error message: [We are testing our Custome Exception] \n",
      "        \n",
      "        \n"
     ]
    }
   ],
   "source": [
    "index()"
   ]
  },
  {
   "cell_type": "code",
   "execution_count": 62,
   "id": "2c98c213",
   "metadata": {},
   "outputs": [],
   "source": [
    "from housing.exception import HousingException\n",
    "\n",
    "try:\n",
    "    raise Exception(\"testing Exception\")\n",
    "except Exception as e:\n",
    "    obj = HousingException(e,sys)"
   ]
  },
  {
   "cell_type": "code",
   "execution_count": 64,
   "id": "4add6d48",
   "metadata": {},
   "outputs": [
    {
     "name": "stdout",
     "output_type": "stream",
     "text": [
      "\n",
      "        Error occured in script: [C:\\Users\\Amar Gajula\\AppData\\Local\\Temp\\ipykernel_1260\\2007613162.py] \n",
      "        at line number: [6] \n",
      "        error message: [testing Exception] \n",
      "        \n",
      "        \n"
     ]
    }
   ],
   "source": [
    "print(obj)"
   ]
  },
  {
   "cell_type": "code",
   "execution_count": 65,
   "id": "90fa962a",
   "metadata": {},
   "outputs": [
    {
     "ename": "AttributeError",
     "evalue": "'str' object has no attribute 'str'",
     "output_type": "error",
     "traceback": [
      "\u001b[1;31m---------------------------------------------------------------------------\u001b[0m",
      "\u001b[1;31mAttributeError\u001b[0m                            Traceback (most recent call last)",
      "File \u001b[1;32md:\\ML_Projects\\MLOps_California_House_Price_Prediction\\venv\\lib\\site-packages\\IPython\\core\\formatters.py:708\u001b[0m, in \u001b[0;36mPlainTextFormatter.__call__\u001b[1;34m(self, obj)\u001b[0m\n\u001b[0;32m    701\u001b[0m stream \u001b[38;5;241m=\u001b[39m StringIO()\n\u001b[0;32m    702\u001b[0m printer \u001b[38;5;241m=\u001b[39m pretty\u001b[38;5;241m.\u001b[39mRepresentationPrinter(stream, \u001b[38;5;28mself\u001b[39m\u001b[38;5;241m.\u001b[39mverbose,\n\u001b[0;32m    703\u001b[0m     \u001b[38;5;28mself\u001b[39m\u001b[38;5;241m.\u001b[39mmax_width, \u001b[38;5;28mself\u001b[39m\u001b[38;5;241m.\u001b[39mnewline,\n\u001b[0;32m    704\u001b[0m     max_seq_length\u001b[38;5;241m=\u001b[39m\u001b[38;5;28mself\u001b[39m\u001b[38;5;241m.\u001b[39mmax_seq_length,\n\u001b[0;32m    705\u001b[0m     singleton_pprinters\u001b[38;5;241m=\u001b[39m\u001b[38;5;28mself\u001b[39m\u001b[38;5;241m.\u001b[39msingleton_printers,\n\u001b[0;32m    706\u001b[0m     type_pprinters\u001b[38;5;241m=\u001b[39m\u001b[38;5;28mself\u001b[39m\u001b[38;5;241m.\u001b[39mtype_printers,\n\u001b[0;32m    707\u001b[0m     deferred_pprinters\u001b[38;5;241m=\u001b[39m\u001b[38;5;28mself\u001b[39m\u001b[38;5;241m.\u001b[39mdeferred_printers)\n\u001b[1;32m--> 708\u001b[0m \u001b[43mprinter\u001b[49m\u001b[38;5;241;43m.\u001b[39;49m\u001b[43mpretty\u001b[49m\u001b[43m(\u001b[49m\u001b[43mobj\u001b[49m\u001b[43m)\u001b[49m\n\u001b[0;32m    709\u001b[0m printer\u001b[38;5;241m.\u001b[39mflush()\n\u001b[0;32m    710\u001b[0m \u001b[38;5;28;01mreturn\u001b[39;00m stream\u001b[38;5;241m.\u001b[39mgetvalue()\n",
      "File \u001b[1;32md:\\ML_Projects\\MLOps_California_House_Price_Prediction\\venv\\lib\\site-packages\\IPython\\lib\\pretty.py:410\u001b[0m, in \u001b[0;36mRepresentationPrinter.pretty\u001b[1;34m(self, obj)\u001b[0m\n\u001b[0;32m    407\u001b[0m                         \u001b[38;5;28;01mreturn\u001b[39;00m meth(obj, \u001b[38;5;28mself\u001b[39m, cycle)\n\u001b[0;32m    408\u001b[0m                 \u001b[38;5;28;01mif\u001b[39;00m \u001b[38;5;28mcls\u001b[39m \u001b[38;5;129;01mis\u001b[39;00m \u001b[38;5;129;01mnot\u001b[39;00m \u001b[38;5;28mobject\u001b[39m \\\n\u001b[0;32m    409\u001b[0m                         \u001b[38;5;129;01mand\u001b[39;00m \u001b[38;5;28mcallable\u001b[39m(\u001b[38;5;28mcls\u001b[39m\u001b[38;5;241m.\u001b[39m\u001b[38;5;18m__dict__\u001b[39m\u001b[38;5;241m.\u001b[39mget(\u001b[38;5;124m'\u001b[39m\u001b[38;5;124m__repr__\u001b[39m\u001b[38;5;124m'\u001b[39m)):\n\u001b[1;32m--> 410\u001b[0m                     \u001b[38;5;28;01mreturn\u001b[39;00m \u001b[43m_repr_pprint\u001b[49m\u001b[43m(\u001b[49m\u001b[43mobj\u001b[49m\u001b[43m,\u001b[49m\u001b[43m \u001b[49m\u001b[38;5;28;43mself\u001b[39;49m\u001b[43m,\u001b[49m\u001b[43m \u001b[49m\u001b[43mcycle\u001b[49m\u001b[43m)\u001b[49m\n\u001b[0;32m    412\u001b[0m     \u001b[38;5;28;01mreturn\u001b[39;00m _default_pprint(obj, \u001b[38;5;28mself\u001b[39m, cycle)\n\u001b[0;32m    413\u001b[0m \u001b[38;5;28;01mfinally\u001b[39;00m:\n",
      "File \u001b[1;32md:\\ML_Projects\\MLOps_California_House_Price_Prediction\\venv\\lib\\site-packages\\IPython\\lib\\pretty.py:778\u001b[0m, in \u001b[0;36m_repr_pprint\u001b[1;34m(obj, p, cycle)\u001b[0m\n\u001b[0;32m    776\u001b[0m \u001b[38;5;250m\u001b[39m\u001b[38;5;124;03m\"\"\"A pprint that just redirects to the normal repr function.\"\"\"\u001b[39;00m\n\u001b[0;32m    777\u001b[0m \u001b[38;5;66;03m# Find newlines and replace them with p.break_()\u001b[39;00m\n\u001b[1;32m--> 778\u001b[0m output \u001b[38;5;241m=\u001b[39m \u001b[38;5;28;43mrepr\u001b[39;49m\u001b[43m(\u001b[49m\u001b[43mobj\u001b[49m\u001b[43m)\u001b[49m\n\u001b[0;32m    779\u001b[0m lines \u001b[38;5;241m=\u001b[39m output\u001b[38;5;241m.\u001b[39msplitlines()\n\u001b[0;32m    780\u001b[0m \u001b[38;5;28;01mwith\u001b[39;00m p\u001b[38;5;241m.\u001b[39mgroup():\n",
      "File \u001b[1;32md:\\ML_Projects\\MLOps_California_House_Price_Prediction\\housing\\exception\\__init__.py:46\u001b[0m, in \u001b[0;36mHousingException.__repr__\u001b[1;34m(self)\u001b[0m\n\u001b[0;32m     45\u001b[0m \u001b[38;5;28;01mdef\u001b[39;00m\u001b[38;5;250m \u001b[39m\u001b[38;5;21m__repr__\u001b[39m(\u001b[38;5;28mself\u001b[39m) \u001b[38;5;241m-\u001b[39m\u001b[38;5;241m>\u001b[39m \u001b[38;5;28mstr\u001b[39m:\n\u001b[1;32m---> 46\u001b[0m     \u001b[38;5;28;01mreturn\u001b[39;00m \u001b[43mHousingException\u001b[49m\u001b[38;5;241;43m.\u001b[39;49m\u001b[38;5;18;43m__name__\u001b[39;49m\u001b[38;5;241;43m.\u001b[39;49m\u001b[43mstr\u001b[49m()\n",
      "\u001b[1;31mAttributeError\u001b[0m: 'str' object has no attribute 'str'"
     ]
    }
   ],
   "source": [
    "obj"
   ]
  },
  {
   "cell_type": "code",
   "execution_count": 44,
   "id": "599cb433",
   "metadata": {},
   "outputs": [],
   "source": [
    "class Demo:\n",
    "    def __str__(self):\n",
    "        return \"this is __str__ function\"\n",
    "    def __repr__(self):\n",
    "        return \"This is __repr__ function it a object representation\""
   ]
  },
  {
   "cell_type": "code",
   "execution_count": 45,
   "id": "bbc7cae3",
   "metadata": {},
   "outputs": [
    {
     "data": {
      "text/plain": [
       "This is __repr__ function it a object representation"
      ]
     },
     "execution_count": 45,
     "metadata": {},
     "output_type": "execute_result"
    }
   ],
   "source": [
    "Demo()"
   ]
  },
  {
   "cell_type": "code",
   "execution_count": 46,
   "id": "8f76ef72",
   "metadata": {},
   "outputs": [
    {
     "name": "stdout",
     "output_type": "stream",
     "text": [
      "this is __str__ function\n"
     ]
    }
   ],
   "source": [
    "print(Demo())"
   ]
  },
  {
   "cell_type": "code",
   "execution_count": 47,
   "id": "067fbd3f",
   "metadata": {},
   "outputs": [
    {
     "data": {
      "text/plain": [
       "This is __repr__ function it a object representation"
      ]
     },
     "execution_count": 47,
     "metadata": {},
     "output_type": "execute_result"
    }
   ],
   "source": [
    "dem = Demo()\n",
    "dem"
   ]
  },
  {
   "cell_type": "code",
   "execution_count": 48,
   "id": "c4b84ac3",
   "metadata": {},
   "outputs": [
    {
     "name": "stdout",
     "output_type": "stream",
     "text": [
      "this is __str__ function\n"
     ]
    }
   ],
   "source": [
    "print(dem)"
   ]
  },
  {
   "cell_type": "code",
   "execution_count": 49,
   "id": "834d7388",
   "metadata": {},
   "outputs": [],
   "source": [
    "from sklearn.linear_model import LinearRegression"
   ]
  },
  {
   "cell_type": "code",
   "execution_count": 50,
   "id": "cc3e8f23",
   "metadata": {},
   "outputs": [
    {
     "data": {
      "text/plain": [
       "sklearn.linear_model._base.LinearRegression"
      ]
     },
     "execution_count": 50,
     "metadata": {},
     "output_type": "execute_result"
    }
   ],
   "source": [
    "l=LinearRegression\n",
    "l"
   ]
  },
  {
   "cell_type": "code",
   "execution_count": 51,
   "id": "d0dd863e",
   "metadata": {},
   "outputs": [],
   "source": [
    "class Demo:\n",
    "    def __repr__(self):\n",
    "        return \"Demo()\""
   ]
  },
  {
   "cell_type": "code",
   "execution_count": 52,
   "id": "c45787b5",
   "metadata": {},
   "outputs": [
    {
     "data": {
      "text/plain": [
       "Demo()"
      ]
     },
     "execution_count": 52,
     "metadata": {},
     "output_type": "execute_result"
    }
   ],
   "source": [
    "obj= Demo()\n",
    "obj"
   ]
  },
  {
   "cell_type": "code",
   "execution_count": 53,
   "id": "03de9959",
   "metadata": {},
   "outputs": [],
   "source": [
    "class Demo:\n",
    "    def __init__(self,param):\n",
    "        self.param=param\n",
    "    def __repr__(self):\n",
    "        return f\"Demo(param='{self.param}')\""
   ]
  },
  {
   "cell_type": "code",
   "execution_count": 54,
   "id": "a557ba46",
   "metadata": {},
   "outputs": [
    {
     "data": {
      "text/plain": [
       "Demo(param='amar')"
      ]
     },
     "execution_count": 54,
     "metadata": {},
     "output_type": "execute_result"
    }
   ],
   "source": [
    "obj = Demo(\"amar\")\n",
    "obj"
   ]
  },
  {
   "cell_type": "code",
   "execution_count": 55,
   "id": "52584478",
   "metadata": {},
   "outputs": [
    {
     "data": {
      "text/plain": [
       "Demo(param='amar')"
      ]
     },
     "execution_count": 55,
     "metadata": {},
     "output_type": "execute_result"
    }
   ],
   "source": [
    "Demo(param='amar')"
   ]
  },
  {
   "cell_type": "code",
   "execution_count": 56,
   "id": "55c51c40",
   "metadata": {},
   "outputs": [
    {
     "data": {
      "text/plain": [
       "Demo(param='1')"
      ]
     },
     "execution_count": 56,
     "metadata": {},
     "output_type": "execute_result"
    }
   ],
   "source": [
    "Demo(param=1)"
   ]
  },
  {
   "cell_type": "code",
   "execution_count": 57,
   "id": "ca791fb2",
   "metadata": {},
   "outputs": [
    {
     "data": {
      "text/plain": [
       "Demo(param='1')"
      ]
     },
     "execution_count": 57,
     "metadata": {},
     "output_type": "execute_result"
    }
   ],
   "source": [
    "Demo(1)"
   ]
  },
  {
   "cell_type": "code",
   "execution_count": 1,
   "id": "d460c83a",
   "metadata": {},
   "outputs": [
    {
     "data": {
      "text/plain": [
       "'d:\\\\ML_Projects\\\\MLOps_California_House_Price_Prediction'"
      ]
     },
     "execution_count": 1,
     "metadata": {},
     "output_type": "execute_result"
    }
   ],
   "source": [
    "pwd"
   ]
  },
  {
   "cell_type": "code",
   "execution_count": 1,
   "id": "aa039084",
   "metadata": {},
   "outputs": [],
   "source": [
    "from housing.constant import *"
   ]
  },
  {
   "cell_type": "code",
   "execution_count": 2,
   "id": "5f52b2c5",
   "metadata": {},
   "outputs": [
    {
     "data": {
      "text/plain": [
       "'d:\\\\ML_Projects\\\\MLOps_California_House_Price_Prediction'"
      ]
     },
     "execution_count": 2,
     "metadata": {},
     "output_type": "execute_result"
    }
   ],
   "source": [
    "ROOT_DIR"
   ]
  },
  {
   "cell_type": "code",
   "execution_count": 3,
   "id": "2e254351",
   "metadata": {},
   "outputs": [
    {
     "data": {
      "text/plain": [
       "'d:\\\\ML_Projects\\\\MLOps_California_House_Price_Prediction'"
      ]
     },
     "execution_count": 3,
     "metadata": {},
     "output_type": "execute_result"
    }
   ],
   "source": [
    "pwd"
   ]
  },
  {
   "cell_type": "code",
   "execution_count": 1,
   "id": "dd833e04",
   "metadata": {},
   "outputs": [
    {
     "name": "stdout",
     "output_type": "stream",
     "text": [
      "Name: evidently\n",
      "Version: 0.7.4\n",
      "Summary: Open-source tools to analyze, monitor, and debug machine learning model in production.\n",
      "Home-page: https://github.com/evidentlyai/evidently\n",
      "Author: Emeli Dral\n",
      "Author-email: emeli.dral@gmail.com\n",
      "License: UNKNOWN\n",
      "Location: d:\\ml_projects\\mlops_california_house_price_prediction\\venv\\lib\\site-packages\n",
      "Requires: certifi, cryptography, deprecation, dynaconf, fsspec, iterative-telemetry, litestar, nltk, numpy, pandas, plotly, pydantic, PyYAML, requests, rich, scikit-learn, scipy, statsmodels, typer, typing-inspect, ujson, urllib3, uuid6, uvicorn, watchdog\n",
      "Required-by: housing-predictor\n",
      "Note: you may need to restart the kernel to use updated packages.\n"
     ]
    }
   ],
   "source": [
    "pip show evidently"
   ]
  },
  {
   "cell_type": "code",
   "execution_count": 17,
   "id": "b1350c87",
   "metadata": {},
   "outputs": [
    {
     "ename": "ImportError",
     "evalue": "cannot import name 'DataDrift' from 'evidently.metrics' (d:\\ML_Projects\\MLOps_California_House_Price_Prediction\\venv\\lib\\site-packages\\evidently\\metrics\\__init__.py)",
     "output_type": "error",
     "traceback": [
      "\u001b[1;31m---------------------------------------------------------------------------\u001b[0m",
      "\u001b[1;31mImportError\u001b[0m                               Traceback (most recent call last)",
      "Cell \u001b[1;32mIn[17], line 1\u001b[0m\n\u001b[1;32m----> 1\u001b[0m \u001b[38;5;28;01mfrom\u001b[39;00m\u001b[38;5;250m \u001b[39m\u001b[38;5;21;01mevidently\u001b[39;00m\u001b[38;5;21;01m.\u001b[39;00m\u001b[38;5;21;01mmetrics\u001b[39;00m\u001b[38;5;250m \u001b[39m\u001b[38;5;28;01mimport\u001b[39;00m DataDrift\n",
      "\u001b[1;31mImportError\u001b[0m: cannot import name 'DataDrift' from 'evidently.metrics' (d:\\ML_Projects\\MLOps_California_House_Price_Prediction\\venv\\lib\\site-packages\\evidently\\metrics\\__init__.py)"
     ]
    }
   ],
   "source": [
    "from evidently.metrics import DataDrift"
   ]
  },
  {
   "cell_type": "code",
   "execution_count": 3,
   "id": "55be3be4",
   "metadata": {},
   "outputs": [
    {
     "ename": "ImportError",
     "evalue": "cannot import name 'DataDriftMetric' from 'evidently.metrics' (d:\\ML_Projects\\MLOps_California_House_Price_Prediction\\venv\\lib\\site-packages\\evidently\\metrics\\__init__.py)",
     "output_type": "error",
     "traceback": [
      "\u001b[1;31m---------------------------------------------------------------------------\u001b[0m",
      "\u001b[1;31mImportError\u001b[0m                               Traceback (most recent call last)",
      "Cell \u001b[1;32mIn[3], line 2\u001b[0m\n\u001b[0;32m      1\u001b[0m \u001b[38;5;28;01mfrom\u001b[39;00m\u001b[38;5;250m \u001b[39m\u001b[38;5;21;01mevidently\u001b[39;00m\u001b[38;5;250m \u001b[39m\u001b[38;5;28;01mimport\u001b[39;00m Report\n\u001b[1;32m----> 2\u001b[0m \u001b[38;5;28;01mfrom\u001b[39;00m\u001b[38;5;250m \u001b[39m\u001b[38;5;21;01mevidently\u001b[39;00m\u001b[38;5;21;01m.\u001b[39;00m\u001b[38;5;21;01mmetrics\u001b[39;00m\u001b[38;5;250m \u001b[39m\u001b[38;5;28;01mimport\u001b[39;00m DataDriftMetric\n\u001b[0;32m      3\u001b[0m \u001b[38;5;28;01mfrom\u001b[39;00m\u001b[38;5;250m \u001b[39m\u001b[38;5;21;01mevidently\u001b[39;00m\u001b[38;5;250m \u001b[39m\u001b[38;5;28;01mimport\u001b[39;00m ColumnMapping\n",
      "\u001b[1;31mImportError\u001b[0m: cannot import name 'DataDriftMetric' from 'evidently.metrics' (d:\\ML_Projects\\MLOps_California_House_Price_Prediction\\venv\\lib\\site-packages\\evidently\\metrics\\__init__.py)"
     ]
    }
   ],
   "source": [
    "from evidently import Report\n",
    "from evidently.metrics import DataDriftMetric\n",
    "from evidently import ColumnMapping"
   ]
  },
  {
   "cell_type": "code",
   "execution_count": 21,
   "id": "d7d85226",
   "metadata": {},
   "outputs": [
    {
     "ename": "ModuleNotFoundError",
     "evalue": "No module named 'evidently.report'",
     "output_type": "error",
     "traceback": [
      "\u001b[1;31m---------------------------------------------------------------------------\u001b[0m",
      "\u001b[1;31mModuleNotFoundError\u001b[0m                       Traceback (most recent call last)",
      "Cell \u001b[1;32mIn[21], line 1\u001b[0m\n\u001b[1;32m----> 1\u001b[0m \u001b[38;5;28;01mfrom\u001b[39;00m\u001b[38;5;250m \u001b[39m\u001b[38;5;21;01mevidently\u001b[39;00m\u001b[38;5;21;01m.\u001b[39;00m\u001b[38;5;21;01mreport\u001b[39;00m\u001b[38;5;250m \u001b[39m\u001b[38;5;28;01mimport\u001b[39;00m Report\n\u001b[0;32m      2\u001b[0m \u001b[38;5;28;01mfrom\u001b[39;00m\u001b[38;5;250m \u001b[39m\u001b[38;5;21;01mevidently\u001b[39;00m\u001b[38;5;21;01m.\u001b[39;00m\u001b[38;5;21;01mmetric_preset\u001b[39;00m\u001b[38;5;250m \u001b[39m\u001b[38;5;28;01mimport\u001b[39;00m DataDriftPreset\n",
      "\u001b[1;31mModuleNotFoundError\u001b[0m: No module named 'evidently.report'"
     ]
    }
   ],
   "source": [
    "from evidently.report import Report\n",
    "from evidently.metric_preset import DataDriftPreset"
   ]
  },
  {
   "cell_type": "code",
   "execution_count": 24,
   "id": "1fc26a54",
   "metadata": {},
   "outputs": [],
   "source": [
    "from evidently import Report\n",
    "from evidently.presets import DataDriftPreset"
   ]
  },
  {
   "cell_type": "code",
   "execution_count": 27,
   "id": "ac08ec97",
   "metadata": {},
   "outputs": [],
   "source": [
    "import pandas as pd"
   ]
  },
  {
   "cell_type": "code",
   "execution_count": 30,
   "id": "644e3a2b",
   "metadata": {},
   "outputs": [
    {
     "name": "stdout",
     "output_type": "stream",
     "text": [
      "Error: 'Report' object has no attribute 'calculate'\n"
     ]
    }
   ],
   "source": [
    "from evidently import Report\n",
    "from evidently.presets import DataDriftPreset\n",
    "import pandas as pd\n",
    "import json\n",
    "\n",
    "# Sample minimal test to check if the issue is with your environment or code setup\n",
    "try:\n",
    "    # Create the report object using DataDriftPreset\n",
    "    report = Report(metrics=[DataDriftPreset()])\n",
    "\n",
    "    # Sample train and test data (replace with your actual data)\n",
    "    train_df = pd.DataFrame({'feature1': [1, 2, 3], 'feature2': [4, 5, 6]})\n",
    "    test_df = pd.DataFrame({'feature1': [1, 2, 3], 'feature2': [4, 5, 6]})\n",
    "\n",
    "    # Calculate the report (this replaces the use of 'add()')\n",
    "    report.calculate(train_data=train_df, test_data=test_df)\n",
    "\n",
    "    # Convert report to dict (no 'to_dict()' error here)\n",
    "    report_dict = report.to_dict()\n",
    "\n",
    "    # Save it as a JSON file\n",
    "    with open('data_drift_report.json', 'w') as f:\n",
    "        json.dump(report_dict, f, indent=6)\n",
    "\n",
    "    print(\"Report saved successfully.\")\n",
    "\n",
    "except Exception as e:\n",
    "    print(f\"Error: {e}\")\n"
   ]
  },
  {
   "cell_type": "code",
   "execution_count": 5,
   "id": "4dff5551",
   "metadata": {},
   "outputs": [
    {
     "ename": "ImportError",
     "evalue": "cannot import name 'DatasetDriftMetric' from 'evidently.metrics' (d:\\ML_Projects\\MLOps_California_House_Price_Prediction\\venv\\lib\\site-packages\\evidently\\metrics\\__init__.py)",
     "output_type": "error",
     "traceback": [
      "\u001b[1;31m---------------------------------------------------------------------------\u001b[0m",
      "\u001b[1;31mImportError\u001b[0m                               Traceback (most recent call last)",
      "Cell \u001b[1;32mIn[5], line 2\u001b[0m\n\u001b[0;32m      1\u001b[0m \u001b[38;5;66;03m#from evidently.report import Report\u001b[39;00m\n\u001b[1;32m----> 2\u001b[0m \u001b[38;5;28;01mfrom\u001b[39;00m\u001b[38;5;250m \u001b[39m\u001b[38;5;21;01mevidently\u001b[39;00m\u001b[38;5;21;01m.\u001b[39;00m\u001b[38;5;21;01mmetrics\u001b[39;00m\u001b[38;5;250m \u001b[39m\u001b[38;5;28;01mimport\u001b[39;00m DatasetDriftMetric, DataDriftTable\n",
      "\u001b[1;31mImportError\u001b[0m: cannot import name 'DatasetDriftMetric' from 'evidently.metrics' (d:\\ML_Projects\\MLOps_California_House_Price_Prediction\\venv\\lib\\site-packages\\evidently\\metrics\\__init__.py)"
     ]
    }
   ],
   "source": [
    "#from evidently.report import Report\n",
    "from evidently.metrics import DatasetDriftMetric, DataDriftTable"
   ]
  },
  {
   "cell_type": "code",
   "execution_count": null,
   "id": "d4ca70c0",
   "metadata": {},
   "outputs": [
    {
     "name": "stdout",
     "output_type": "stream",
     "text": [
      "Error: 'Report' object has no attribute 'evaluate'\n"
     ]
    }
   ],
   "source": [
    "import pandas as pd\n",
    "from evidently.report import Report\n",
    "from evidently.metrics import DatasetDriftMetric, DataDriftTable\n",
    "\n",
    "# Load your train and test datasets\n",
    "# Replace 'train.csv' and 'test.csv' with your actual file paths\n",
    "train_path =r\"D:\\ML_Projects\\MLOps_California_House_Price_Prediction\\housing\\artifact\\data_ingestion\\2025-05-09-21-10-56\\ingested_data\\train\\housing.csv\"\n",
    "test_path = r\"D:\\ML_Projects\\MLOps_California_House_Price_Prediction\\housing\\artifact\\data_ingestion\\2025-05-09-21-10-56\\ingested_data\\test\\housing.csv\"\n",
    "\n",
    "train_df = pd.read_csv(train_path)\n",
    "test_df = pd.read_csv(train_path)\n",
    "\n",
    "# Create a report with the same metrics as your previous report\n",
    "report = Report(metrics=[\n",
    "    DatasetDriftMetric(),\n",
    "    DataDriftTable()\n",
    "])\n",
    "\n",
    "# Run the report\n",
    "report.run(reference_data=train_df, current_data=test_df)\n",
    "\n",
    "# Save results to files\n",
    "report.save_html(\"report.html\")\n",
    "report.save_json(\"report.json\")\n",
    "\n",
    "print(\"Drift report saved as 'report.html' and 'report.json'\")\n"
   ]
  },
  {
   "cell_type": "code",
   "execution_count": 33,
   "id": "773c47cb",
   "metadata": {},
   "outputs": [
    {
     "name": "stdout",
     "output_type": "stream",
     "text": [
      "Name: evidently\n",
      "Version: 0.6.0\n",
      "Summary: Open-source tools to analyze, monitor, and debug machine learning model in production.\n",
      "Home-page: https://github.com/evidentlyai/evidently\n",
      "Author: Emeli Dral\n",
      "Author-email: emeli.dral@gmail.com\n",
      "License: UNKNOWN\n",
      "Location: d:\\ml_projects\\mlops_california_house_price_prediction\\venv\\lib\\site-packages\n",
      "Requires: certifi, cryptography, deprecation, dynaconf, fsspec, iterative-telemetry, litestar, nltk, numpy, pandas, plotly, pydantic, PyYAML, requests, rich, scikit-learn, scipy, statsmodels, typer, typing-inspect, ujson, urllib3, uuid6, uvicorn, watchdog\n",
      "Required-by: housing-predictor\n",
      "Note: you may need to restart the kernel to use updated packages.\n"
     ]
    }
   ],
   "source": [
    "pip show evidently"
   ]
  },
  {
   "cell_type": "code",
   "execution_count": 40,
   "id": "a87ea764",
   "metadata": {},
   "outputs": [],
   "source": [
    "from evidently import Report\n",
    "\n",
    "from evidently.presets import DataDriftPreset"
   ]
  },
  {
   "cell_type": "code",
   "execution_count": 9,
   "id": "225c7cf5",
   "metadata": {},
   "outputs": [
    {
     "ename": "NameError",
     "evalue": "name 'train_data' is not defined",
     "output_type": "error",
     "traceback": [
      "\u001b[1;31m---------------------------------------------------------------------------\u001b[0m",
      "\u001b[1;31mNameError\u001b[0m                                 Traceback (most recent call last)",
      "Cell \u001b[1;32mIn[9], line 12\u001b[0m\n\u001b[0;32m      9\u001b[0m report \u001b[38;5;241m=\u001b[39m Report(metrics\u001b[38;5;241m=\u001b[39m[DataDriftPreset()])\n\u001b[0;32m     11\u001b[0m \u001b[38;5;66;03m# Run the report on your datasets\u001b[39;00m\n\u001b[1;32m---> 12\u001b[0m report\u001b[38;5;241m.\u001b[39mrun(reference_data\u001b[38;5;241m=\u001b[39m\u001b[43mtrain_data\u001b[49m, current_data\u001b[38;5;241m=\u001b[39mtest_data)\n\u001b[0;32m     14\u001b[0m \u001b[38;5;66;03m# Save the report as .html\u001b[39;00m\n\u001b[0;32m     15\u001b[0m report\u001b[38;5;241m.\u001b[39msave_html(\u001b[38;5;124m\"\u001b[39m\u001b[38;5;124mdata_drift_report.html\u001b[39m\u001b[38;5;124m\"\u001b[39m)\n",
      "\u001b[1;31mNameError\u001b[0m: name 'train_data' is not defined"
     ]
    }
   ],
   "source": [
    "from evidently import Report\n",
    "from evidently.presets import DataDriftPreset\n",
    "\n",
    "# Assuming you have your train and test datasets as pandas DataFrames\n",
    "# reference_data: the training dataset\n",
    "# current_data: the test dataset\n",
    "\n",
    "# Create a Report object with the DataDriftPreset\n",
    "report = Report(metrics=[DataDriftPreset()])\n",
    "\n",
    "# Run the report on your datasets\n",
    "report.run(reference_data=train_data, current_data=test_data)\n",
    "\n",
    "# Save the report as .html\n",
    "report.save_html(\"data_drift_report.html\")\n",
    "\n",
    "# Save the report as .json\n",
    "report.save_json(\"data_drift_report.json\")"
   ]
  },
  {
   "cell_type": "code",
   "execution_count": 28,
   "id": "d625ce50",
   "metadata": {},
   "outputs": [
    {
     "ename": "TypeError",
     "evalue": "'Report' object is not iterable",
     "output_type": "error",
     "traceback": [
      "\u001b[1;31m---------------------------------------------------------------------------\u001b[0m",
      "\u001b[1;31mTypeError\u001b[0m                                 Traceback (most recent call last)",
      "Cell \u001b[1;32mIn[28], line 33\u001b[0m\n\u001b[0;32m     30\u001b[0m drift_metrics_dict \u001b[38;5;241m=\u001b[39m {}\n\u001b[0;32m     32\u001b[0m \u001b[38;5;66;03m# Iterate over the loaded report's steps and extract the drift metrics\u001b[39;00m\n\u001b[1;32m---> 33\u001b[0m \u001b[38;5;28;01mfor\u001b[39;00m step \u001b[38;5;129;01min\u001b[39;00m loaded_report:\n\u001b[0;32m     34\u001b[0m     drift_metrics_dict[step] \u001b[38;5;241m=\u001b[39m step\n\u001b[0;32m     36\u001b[0m \u001b[38;5;66;03m# Step 3: Save the drift metrics as a JSON file\u001b[39;00m\n",
      "\u001b[1;31mTypeError\u001b[0m: 'Report' object is not iterable"
     ]
    }
   ],
   "source": [
    "import pandas as pd\n",
    "import pickle\n",
    "from evidently import Report\n",
    "from evidently.presets import DataDriftPreset\n",
    "import json\n",
    "\n",
    "train_path =r\"D:\\ML_Projects\\MLOps_California_House_Price_Prediction\\housing\\artifact\\data_ingestion\\2025-05-09-21-10-56\\ingested_data\\train\\housing.csv\"\n",
    "test_path = r\"D:\\ML_Projects\\MLOps_California_House_Price_Prediction\\housing\\artifact\\data_ingestion\\2025-05-09-21-10-56\\ingested_data\\test\\housing.csv\"\n",
    "# Load data from file paths\n",
    "train_data = pd.read_csv(train_path)\n",
    "test_data = pd.read_csv(test_path)\n",
    "\n",
    "\n",
    "\n",
    "# Create a Report object with the DataDriftPreset\n",
    "report = Report(metrics=[DataDriftPreset()])\n",
    "\n",
    "# Run the report on your datasets\n",
    "report.run(reference_data=train_data, current_data=test_data)\n",
    "\n",
    "# Step 1: Serialize (Save) the report object using pickle\n",
    "with open(\"report_object.pkl\", \"wb\") as file:\n",
    "    pickle.dump(report, file)\n",
    "\n",
    "# To load the report back into memory\n",
    "with open(\"report_object.pkl\", \"rb\") as file:\n",
    "    loaded_report = pickle.load(file)\n",
    "\n",
    "# Step 2: Extract drift metrics from the loaded report object\n",
    "drift_metrics_dict = {}\n",
    "\n",
    "# Iterate over the loaded report's steps and extract the drift metrics\n",
    "for step in loaded_report:\n",
    "    drift_metrics_dict[step] = step\n",
    "\n",
    "# Step 3: Save the drift metrics as a JSON file\n",
    "with open(\"data_drift_report.json\", \"w\") as json_file:\n",
    "    json.dump(drift_metrics_dict, json_file, indent=4)\n",
    "\n",
    "# Step 4: Save the HTML version of the report (optional)\n",
    "with open(\"data_drift_report.html\", \"w\") as html_file:\n",
    "    html_file.write(loaded_report)\n",
    "\n",
    "print(\"Report has been serialized and the JSON and HTML reports have been saved successfully.\")\n"
   ]
  },
  {
   "cell_type": "code",
   "execution_count": null,
   "id": "56e2994d",
   "metadata": {},
   "outputs": [],
   "source": [
    ".get_html()\n",
    ".as_dict()\n",
    ".as_dict()\n",
    ".setps\n",
    ".get_metric\n",
    ".matrics\n",
    ".save_json\n",
    "\n"
   ]
  },
  {
   "cell_type": "code",
   "execution_count": 19,
   "id": "8447a205",
   "metadata": {},
   "outputs": [
    {
     "data": {
      "text/plain": [
       "'d:\\\\ML_Projects\\\\MLOps_California_House_Price_Prediction'"
      ]
     },
     "execution_count": 19,
     "metadata": {},
     "output_type": "execute_result"
    }
   ],
   "source": [
    "pwd"
   ]
  },
  {
   "cell_type": "code",
   "execution_count": 1,
   "id": "7aba7f11",
   "metadata": {},
   "outputs": [
    {
     "name": "stdout",
     "output_type": "stream",
     "text": [
      "Name: evidently\n",
      "Version: 0.6.0\n",
      "Summary: Open-source tools to analyze, monitor, and debug machine learning model in production.\n",
      "Home-page: https://github.com/evidentlyai/evidently\n",
      "Author: Emeli Dral\n",
      "Author-email: emeli.dral@gmail.com\n",
      "License: UNKNOWN\n",
      "Location: d:\\ml_projects\\mlops_california_house_price_prediction\\venv\\lib\\site-packages\n",
      "Requires: certifi, cryptography, deprecation, dynaconf, fsspec, iterative-telemetry, litestar, nltk, numpy, pandas, plotly, pydantic, PyYAML, requests, rich, scikit-learn, scipy, statsmodels, typer, typing-inspect, ujson, urllib3, uuid6, uvicorn, watchdog\n",
      "Required-by: housing-predictor\n",
      "Note: you may need to restart the kernel to use updated packages.\n"
     ]
    }
   ],
   "source": [
    "pip show evidently"
   ]
  },
  {
   "cell_type": "code",
   "execution_count": null,
   "id": "88d68f34",
   "metadata": {},
   "outputs": [],
   "source": []
  }
 ],
 "metadata": {
  "kernelspec": {
   "display_name": "Python 3",
   "language": "python",
   "name": "python3"
  },
  "language_info": {
   "codemirror_mode": {
    "name": "ipython",
    "version": 3
   },
   "file_extension": ".py",
   "mimetype": "text/x-python",
   "name": "python",
   "nbconvert_exporter": "python",
   "pygments_lexer": "ipython3",
   "version": "3.9.0"
  }
 },
 "nbformat": 4,
 "nbformat_minor": 5
}
