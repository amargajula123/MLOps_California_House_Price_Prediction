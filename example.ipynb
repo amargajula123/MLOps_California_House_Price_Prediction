{
 "cells": [
  {
   "cell_type": "code",
   "execution_count": 1,
   "id": "55caf654",
   "metadata": {},
   "outputs": [],
   "source": [
    "REQUIREMENT_FILE_NAME = \"requirements.txt\"\n",
    "def get_requirements_list():\n",
    "    \"\"\"\n",
    "    Description: Returns a list of dependencies from requirements.txt, excluding '-e .'\"\"\"\n",
    "    with open(REQUIREMENT_FILE_NAME) as requirement_file:\n",
    "        requirements = requirement_file.read().splitlines()  # Read lines properly\n",
    "        \n",
    "    if \"-e .\" in requirements:\n",
    "        requirements.remove(\"-e .\")  # Remove \"-e .\" safely\n",
    "    return requirements"
   ]
  },
  {
   "cell_type": "code",
   "execution_count": 6,
   "id": "a628f1d5",
   "metadata": {},
   "outputs": [
    {
     "data": {
      "text/plain": [
       "'d:\\\\ML_Projects\\\\MLOps_California_House_Price_Prediction'"
      ]
     },
     "execution_count": 6,
     "metadata": {},
     "output_type": "execute_result"
    }
   ],
   "source": [
    "pwd"
   ]
  },
  {
   "cell_type": "code",
   "execution_count": 2,
   "id": "0a1d1dfa",
   "metadata": {},
   "outputs": [
    {
     "data": {
      "text/plain": [
       "['Flask', 'gunicorn', 'numpy', 'scikit-learn  ', 'pandas']"
      ]
     },
     "execution_count": 2,
     "metadata": {},
     "output_type": "execute_result"
    }
   ],
   "source": [
    "get_requirements_list()"
   ]
  },
  {
   "cell_type": "code",
   "execution_count": 3,
   "id": "dd8ba572",
   "metadata": {},
   "outputs": [],
   "source": [
    "from setuptools import find_packages"
   ]
  },
  {
   "cell_type": "code",
   "execution_count": 4,
   "id": "dd99bdaa",
   "metadata": {},
   "outputs": [
    {
     "data": {
      "text/plain": [
       "['housing']"
      ]
     },
     "execution_count": 4,
     "metadata": {},
     "output_type": "execute_result"
    }
   ],
   "source": [
    "find_packages() #returns package "
   ]
  },
  {
   "cell_type": "code",
   "execution_count": 6,
   "id": "c87561e0",
   "metadata": {},
   "outputs": [],
   "source": [
    "import os\n",
    "LOG_DIR=\"housing_logs\"\n",
    "\n",
    "os.makedirs(LOG_DIR,exist_ok=True)"
   ]
  },
  {
   "cell_type": "code",
   "execution_count": 8,
   "id": "4aaf3df7",
   "metadata": {},
   "outputs": [
    {
     "data": {
      "text/plain": [
       "'2025-05-05_19-04-27'"
      ]
     },
     "execution_count": 8,
     "metadata": {},
     "output_type": "execute_result"
    }
   ],
   "source": [
    "from datetime import datetime\n",
    "\n",
    "\n",
    "CURRENT_TIME_STAMP= f\"{datetime.now().strftime('%Y-%m-%d_%H-%M-%S')}\"\n",
    "CURRENT_TIME_STAMP"
   ]
  },
  {
   "cell_type": "code",
   "execution_count": 10,
   "id": "ab209267",
   "metadata": {},
   "outputs": [
    {
     "data": {
      "text/plain": [
       "'log_2025-05-05_19-04-27.log'"
      ]
     },
     "execution_count": 10,
     "metadata": {},
     "output_type": "execute_result"
    }
   ],
   "source": [
    "LOG_FILE_NAME=f\"log_{CURRENT_TIME_STAMP}.log\"\n",
    "LOG_FILE_NAME"
   ]
  },
  {
   "cell_type": "code",
   "execution_count": 12,
   "id": "b1fd007e",
   "metadata": {},
   "outputs": [
    {
     "data": {
      "text/plain": [
       "'housing_logs\\\\log_2025-05-05_19-04-27.log'"
      ]
     },
     "execution_count": 12,
     "metadata": {},
     "output_type": "execute_result"
    }
   ],
   "source": [
    "LOG_FILE_PATH= os.path.join(LOG_DIR,LOG_FILE_NAME)\n",
    "LOG_FILE_PATH"
   ]
  },
  {
   "cell_type": "code",
   "execution_count": 1,
   "id": "170d6bc8",
   "metadata": {},
   "outputs": [],
   "source": [
    "def index():\n",
    "    try:\n",
    "        raise Exception(\"we are testing our custome Exception\")\n",
    "    except Exception as e:\n",
    "        print(e)"
   ]
  },
  {
   "cell_type": "code",
   "execution_count": 2,
   "id": "26d9053e",
   "metadata": {},
   "outputs": [
    {
     "name": "stdout",
     "output_type": "stream",
     "text": [
      "we are testing our custome Exception\n"
     ]
    }
   ],
   "source": [
    "index()"
   ]
  },
  {
   "cell_type": "code",
   "execution_count": 10,
   "id": "313d8241",
   "metadata": {},
   "outputs": [],
   "source": [
    "from housing.exception import HousingException\n",
    "import sys\n",
    "def index():\n",
    "    try:\n",
    "        raise Exception(\"We are testing our Custome Exception\")\n",
    "    except Exception as e:\n",
    "        housing=HousingException(e,sys)\n",
    "        print(\"housing.error_message =\",housing.error_message)"
   ]
  },
  {
   "cell_type": "code",
   "execution_count": 11,
   "id": "d4a34724",
   "metadata": {},
   "outputs": [
    {
     "name": "stdout",
     "output_type": "stream",
     "text": [
      "housing.error_message = \n",
      "        Error occured in script: [C:\\Users\\Amar Gajula\\AppData\\Local\\Temp\\ipykernel_10400\\922678811.py] \n",
      "        at line number: [7] \n",
      "        error message: [We are testing our Custome Exception] \n",
      "        \n",
      "        \n"
     ]
    }
   ],
   "source": [
    "index()"
   ]
  },
  {
   "cell_type": "code",
   "execution_count": null,
   "id": "599cb433",
   "metadata": {},
   "outputs": [],
   "source": []
  }
 ],
 "metadata": {
  "kernelspec": {
   "display_name": "Python 3",
   "language": "python",
   "name": "python3"
  },
  "language_info": {
   "codemirror_mode": {
    "name": "ipython",
    "version": 3
   },
   "file_extension": ".py",
   "mimetype": "text/x-python",
   "name": "python",
   "nbconvert_exporter": "python",
   "pygments_lexer": "ipython3",
   "version": "3.9.0"
  }
 },
 "nbformat": 4,
 "nbformat_minor": 5
}
