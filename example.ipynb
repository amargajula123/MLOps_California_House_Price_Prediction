{
 "cells": [
  {
   "cell_type": "code",
   "execution_count": 5,
   "id": "55caf654",
   "metadata": {},
   "outputs": [],
   "source": [
    "REQUIREMENT_FILE_NAME = \"requirements.txt\"\n",
    "def get_requirements_list():\n",
    "    \"\"\"\n",
    "    Description: Returns a list of dependencies from requirements.txt, excluding '-e .'\"\"\"\n",
    "    with open(REQUIREMENT_FILE_NAME) as requirement_file:\n",
    "        requirements = requirement_file.read().splitlines()  # Read lines properly\n",
    "        \n",
    "    if \"-e .\" in requirements:\n",
    "        requirements.remove(\"-e .\")  # Remove \"-e .\" safely\n",
    "    return requirements"
   ]
  },
  {
   "cell_type": "code",
   "execution_count": 6,
   "id": "a628f1d5",
   "metadata": {},
   "outputs": [
    {
     "data": {
      "text/plain": [
       "'d:\\\\ML_Projects\\\\MLOps_California_House_Price_Prediction'"
      ]
     },
     "execution_count": 6,
     "metadata": {},
     "output_type": "execute_result"
    }
   ],
   "source": [
    "pwd"
   ]
  },
  {
   "cell_type": "code",
   "execution_count": 7,
   "id": "0a1d1dfa",
   "metadata": {},
   "outputs": [
    {
     "data": {
      "text/plain": [
       "['Flask',\n",
       " 'gunicorn',\n",
       " 'numpy',\n",
       " 'scikit-learn  # sklearn',\n",
       " 'pandas',\n",
       " '#PyYAML',\n",
       " '#dill',\n",
       " '#evidently==0.6.5  # Fixed version',\n",
       " '#matplotlib',\n",
       " '#pydantic>=1.10.13  # Fixed version to avoid issues',\n",
       " '#-e .']"
      ]
     },
     "execution_count": 7,
     "metadata": {},
     "output_type": "execute_result"
    }
   ],
   "source": [
    "get_requirements_list()"
   ]
  },
  {
   "cell_type": "code",
   "execution_count": null,
   "id": "dd8ba572",
   "metadata": {},
   "outputs": [],
   "source": []
  }
 ],
 "metadata": {
  "kernelspec": {
   "display_name": "Python 3",
   "language": "python",
   "name": "python3"
  },
  "language_info": {
   "codemirror_mode": {
    "name": "ipython",
    "version": 3
   },
   "file_extension": ".py",
   "mimetype": "text/x-python",
   "name": "python",
   "nbconvert_exporter": "python",
   "pygments_lexer": "ipython3",
   "version": "3.9.0"
  }
 },
 "nbformat": 4,
 "nbformat_minor": 5
}
